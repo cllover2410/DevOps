{
 "cells": [
  {
   "cell_type": "code",
   "execution_count": 17,
   "metadata": {
    "scrolled": true
   },
   "outputs": [
    {
     "name": "stderr",
     "output_type": "stream",
     "text": [
      "[05:17:20][DEBUG]<airtest.core.android.adb> C:\\Users\\zhangweiwei\\AppData\\Local\\conda\\conda\\envs\\Python\\lib\\site-packages\\airtest\\core\\android\\static\\adb\\windows\\adb.exe -s 127.0.0.1:7555 shell dumpsys activity top ; echo ---$?---\n"
     ]
    },
    {
     "name": "stdout",
     "output_type": "stream",
     "text": [
      "still waiting for uiautomation ready.\n"
     ]
    },
    {
     "name": "stderr",
     "output_type": "stream",
     "text": [
      "[05:17:20][DEBUG]<airtest.core.android.adb> C:\\Users\\zhangweiwei\\AppData\\Local\\conda\\conda\\envs\\Python\\lib\\site-packages\\airtest\\core\\android\\static\\adb\\windows\\adb.exe -s 127.0.0.1:7555 shell dumpsys package com.netease.nie.yosemite ; echo ---$?---\n",
      "[05:17:21][INFO]<airtest.core.android.yosemite> local version code is 288, installed version code is 288\n",
      "[05:17:21][DEBUG]<airtest.core.android.adb> C:\\Users\\zhangweiwei\\AppData\\Local\\conda\\conda\\envs\\Python\\lib\\site-packages\\airtest\\core\\android\\static\\adb\\windows\\adb.exe -s 127.0.0.1:7555 shell settings get secure default_input_method ; echo ---$?---\n",
      "[05:17:22][DEBUG]<airtest.core.android.adb> C:\\Users\\zhangweiwei\\AppData\\Local\\conda\\conda\\envs\\Python\\lib\\site-packages\\airtest\\core\\android\\static\\adb\\windows\\adb.exe -s 127.0.0.1:7555 shell ime list -a ; echo ---$?---\n",
      "[05:17:22][DEBUG]<airtest.core.android.adb> C:\\Users\\zhangweiwei\\AppData\\Local\\conda\\conda\\envs\\Python\\lib\\site-packages\\airtest\\core\\android\\static\\adb\\windows\\adb.exe -s 127.0.0.1:7555 shell ime enable com.netease.nie.yosemite/.ime.ImeService ; echo ---$?---\n"
     ]
    },
    {
     "name": "stdout",
     "output_type": "stream",
     "text": [
      "still waiting for uiautomation ready.\n"
     ]
    },
    {
     "name": "stderr",
     "output_type": "stream",
     "text": [
      "[05:17:23][DEBUG]<airtest.core.android.adb> C:\\Users\\zhangweiwei\\AppData\\Local\\conda\\conda\\envs\\Python\\lib\\site-packages\\airtest\\core\\android\\static\\adb\\windows\\adb.exe -s 127.0.0.1:7555 shell ime set com.netease.nie.yosemite/.ime.ImeService ; echo ---$?---\n",
      "[05:17:23][DEBUG]<airtest.core.android.adb> C:\\Users\\zhangweiwei\\AppData\\Local\\conda\\conda\\envs\\Python\\lib\\site-packages\\airtest\\core\\android\\static\\adb\\windows\\adb.exe -s 127.0.0.1:7555 shell dumpsys package com.netease.open.pocoservice ; echo ---$?---\n",
      "[05:17:24][DEBUG]<airtest.core.android.adb> C:\\Users\\zhangweiwei\\AppData\\Local\\conda\\conda\\envs\\Python\\lib\\site-packages\\airtest\\core\\android\\static\\adb\\windows\\adb.exe -s 127.0.0.1:7555 shell dumpsys package com.netease.open.pocoservice.test ; echo ---$?---\n"
     ]
    },
    {
     "name": "stdout",
     "output_type": "stream",
     "text": [
      "installed version is 41, installer version is 41. force_reinstall=False\n"
     ]
    },
    {
     "name": "stderr",
     "output_type": "stream",
     "text": [
      "[05:17:24][DEBUG]<airtest.core.android.adb> C:\\Users\\zhangweiwei\\AppData\\Local\\conda\\conda\\envs\\Python\\lib\\site-packages\\airtest\\core\\android\\static\\adb\\windows\\adb.exe -s 127.0.0.1:7555 forward --no-rebind tcp:13847 tcp:10080\n"
     ]
    },
    {
     "name": "stdout",
     "output_type": "stream",
     "text": [
      "still waiting for uiautomation ready.\n",
      "installed version is 0, installer version is 0. force_reinstall=False\n"
     ]
    },
    {
     "name": "stderr",
     "output_type": "stream",
     "text": [
      "[05:17:24][DEBUG]<airtest.core.android.adb> C:\\Users\\zhangweiwei\\AppData\\Local\\conda\\conda\\envs\\Python\\lib\\site-packages\\airtest\\core\\android\\static\\adb\\windows\\adb.exe -s 127.0.0.1:7555 forward --no-rebind tcp:11811 tcp:10081\n",
      "[05:17:25][DEBUG]<airtest.core.android.adb> C:\\Users\\zhangweiwei\\AppData\\Local\\conda\\conda\\envs\\Python\\lib\\site-packages\\airtest\\core\\android\\static\\adb\\windows\\adb.exe -s 127.0.0.1:7555 shell ps ; echo ---$?---\n",
      "[05:17:25][DEBUG]<airtest.core.android.adb> C:\\Users\\zhangweiwei\\AppData\\Local\\conda\\conda\\envs\\Python\\lib\\site-packages\\airtest\\core\\android\\static\\adb\\windows\\adb.exe -s 127.0.0.1:7555 shell input keyevent HOME ; echo ---$?---\n",
      "[05:17:26][DEBUG]<airtest.core.android.adb> C:\\Users\\zhangweiwei\\AppData\\Local\\conda\\conda\\envs\\Python\\lib\\site-packages\\airtest\\core\\android\\static\\adb\\windows\\adb.exe -s 127.0.0.1:7555 shell dumpsys package com.netease.nie.yosemite ; echo ---$?---\n"
     ]
    },
    {
     "name": "stdout",
     "output_type": "stream",
     "text": [
      "still waiting for uiautomation ready.\n"
     ]
    },
    {
     "name": "stderr",
     "output_type": "stream",
     "text": [
      "[05:17:26][INFO]<airtest.core.android.yosemite> local version code is 288, installed version code is 288\n",
      "[05:17:26][DEBUG]<airtest.core.android.adb> C:\\Users\\zhangweiwei\\AppData\\Local\\conda\\conda\\envs\\Python\\lib\\site-packages\\airtest\\core\\android\\static\\adb\\windows\\adb.exe -s 127.0.0.1:7555 shell am start -a com.netease.nie.yosemite.ACTION_IDENTIFY ; echo ---$?---\n",
      "[05:17:27][DEBUG]<airtest.core.android.adb> C:\\Users\\zhangweiwei\\AppData\\Local\\conda\\conda\\envs\\Python\\lib\\site-packages\\airtest\\core\\android\\static\\adb\\windows\\adb.exe -s 127.0.0.1:7555 shell input keyevent HOME ; echo ---$?---\n",
      "[05:17:28][DEBUG]<airtest.core.android.adb> C:\\Users\\zhangweiwei\\AppData\\Local\\conda\\conda\\envs\\Python\\lib\\site-packages\\airtest\\core\\android\\static\\adb\\windows\\adb.exe devices\n",
      "[05:17:28][DEBUG]<airtest.core.android.adb> C:\\Users\\zhangweiwei\\AppData\\Local\\conda\\conda\\envs\\Python\\lib\\site-packages\\airtest\\core\\android\\static\\adb\\windows\\adb.exe devices\n"
     ]
    },
    {
     "name": "stdout",
     "output_type": "stream",
     "text": [
      "still waiting for uiautomation ready.\n"
     ]
    },
    {
     "name": "stderr",
     "output_type": "stream",
     "text": [
      "[05:17:29][DEBUG]<airtest.core.android.adb> C:\\Users\\zhangweiwei\\AppData\\Local\\conda\\conda\\envs\\Python\\lib\\site-packages\\airtest\\core\\android\\static\\adb\\windows\\adb.exe -s 127.0.0.1:7555 get-state\n",
      "[05:17:29][DEBUG]<airtest.core.android.adb> C:\\Users\\zhangweiwei\\AppData\\Local\\conda\\conda\\envs\\Python\\lib\\site-packages\\airtest\\core\\android\\static\\adb\\windows\\adb.exe -s 127.0.0.1:7555 wait-for-device\n",
      "[05:17:29][DEBUG]<airtest.core.android.adb> C:\\Users\\zhangweiwei\\AppData\\Local\\conda\\conda\\envs\\Python\\lib\\site-packages\\airtest\\core\\android\\static\\adb\\windows\\adb.exe -s 127.0.0.1:7555 shell getprop ro.build.version.sdk\n",
      "[05:17:30][WARNING]<airtest.core.api> Device:127.0.0.1:7555 updated <airtest.core.android.android.Android object at 0x000001B7E6842F28> -> <airtest.core.android.android.Android object at 0x000001B7E6844128>\n",
      "[05:17:30][DEBUG]<airtest.core.android.adb> C:\\Users\\zhangweiwei\\AppData\\Local\\conda\\conda\\envs\\Python\\lib\\site-packages\\airtest\\core\\android\\static\\adb\\windows\\adb.exe -s 127.0.0.1:7555 get-state\n",
      "[05:17:30][DEBUG]<airtest.core.android.adb> C:\\Users\\zhangweiwei\\AppData\\Local\\conda\\conda\\envs\\Python\\lib\\site-packages\\airtest\\core\\android\\static\\adb\\windows\\adb.exe -s 127.0.0.1:7555 wait-for-device\n",
      "[05:17:30][DEBUG]<airtest.core.android.adb> C:\\Users\\zhangweiwei\\AppData\\Local\\conda\\conda\\envs\\Python\\lib\\site-packages\\airtest\\core\\android\\static\\adb\\windows\\adb.exe -s 127.0.0.1:7555 shell getprop ro.build.version.sdk\n",
      "[05:17:31][WARNING]<airtest.core.api> Device:127.0.0.1:7555 updated <airtest.core.android.android.Android object at 0x000001B7E6844128> -> <airtest.core.android.android.Android object at 0x000001B7E686A550>\n",
      "[05:17:31][DEBUG]<airtest.core.android.adb> C:\\Users\\zhangweiwei\\AppData\\Local\\conda\\conda\\envs\\Python\\lib\\site-packages\\airtest\\core\\android\\static\\adb\\windows\\adb.exe -s 127.0.0.1:7555 shell input keyevent HOME ; echo ---$?---\n",
      "[05:17:33][DEBUG]<airtest.core.android.adb> C:\\Users\\zhangweiwei\\AppData\\Local\\conda\\conda\\envs\\Python\\lib\\site-packages\\airtest\\core\\android\\static\\adb\\windows\\adb.exe -s 127.0.0.1:7555 shell input keyevent HOME ; echo ---$?---\n",
      "[05:17:35][DEBUG]<airtest.core.android.adb> C:\\Users\\zhangweiwei\\AppData\\Local\\conda\\conda\\envs\\Python\\lib\\site-packages\\airtest\\core\\android\\static\\adb\\windows\\adb.exe -s 127.0.0.1:7555 shell input keyevent HOME ; echo ---$?---\n",
      "[05:17:38][DEBUG]<airtest.core.android.adb> C:\\Users\\zhangweiwei\\AppData\\Local\\conda\\conda\\envs\\Python\\lib\\site-packages\\airtest\\core\\android\\static\\adb\\windows\\adb.exe -s 127.0.0.1:7555 shell input keyevent HOME ; echo ---$?---\n",
      "[05:17:42][DEBUG]<airtest.core.android.adb> C:\\Users\\zhangweiwei\\AppData\\Local\\conda\\conda\\envs\\Python\\lib\\site-packages\\airtest\\core\\android\\static\\adb\\windows\\adb.exe -s 127.0.0.1:7555 shell am broadcast -a ADB_INPUT_TEXT --es msg 'http://wx.xiaoxiang56.com' ; echo ---$?---\n",
      "[05:17:42][DEBUG]<airtest.core.android.adb> C:\\Users\\zhangweiwei\\AppData\\Local\\conda\\conda\\envs\\Python\\lib\\site-packages\\airtest\\core\\android\\static\\adb\\windows\\adb.exe -s 127.0.0.1:7555 shell input keyevent ENTER ; echo ---$?---\n"
     ]
    },
    {
     "ename": "PocoNoSuchNodeException",
     "evalue": "Cannot find any visible node by query UIObjectProxy of \"请输入手机号\"",
     "output_type": "error",
     "traceback": [
      "\u001b[1;31m---------------------------------------------------------------------------\u001b[0m",
      "\u001b[1;31mPocoTargetTimeout\u001b[0m                         Traceback (most recent call last)",
      "\u001b[1;32m~\\AppData\\Local\\conda\\conda\\envs\\Python\\lib\\site-packages\\poco\\proxy.py\u001b[0m in \u001b[0;36mwrapped\u001b[1;34m(proxy, *args, **kwargs)\u001b[0m\n\u001b[0;32m     25\u001b[0m             \u001b[1;32mtry\u001b[0m\u001b[1;33m:\u001b[0m\u001b[1;33m\u001b[0m\u001b[0m\n\u001b[1;32m---> 26\u001b[1;33m                 \u001b[0mproxy\u001b[0m\u001b[1;33m.\u001b[0m\u001b[0mwait_for_appearance\u001b[0m\u001b[1;33m(\u001b[0m\u001b[0mtimeout\u001b[0m\u001b[1;33m=\u001b[0m\u001b[0mproxy\u001b[0m\u001b[1;33m.\u001b[0m\u001b[0mpoco\u001b[0m\u001b[1;33m.\u001b[0m\u001b[0m_pre_action_wait_for_appearance\u001b[0m\u001b[1;33m)\u001b[0m\u001b[1;33m\u001b[0m\u001b[0m\n\u001b[0m\u001b[0;32m     27\u001b[0m                 \u001b[1;32mreturn\u001b[0m \u001b[0mfunc\u001b[0m\u001b[1;33m(\u001b[0m\u001b[0mproxy\u001b[0m\u001b[1;33m,\u001b[0m \u001b[1;33m*\u001b[0m\u001b[0margs\u001b[0m\u001b[1;33m,\u001b[0m \u001b[1;33m**\u001b[0m\u001b[0mkwargs\u001b[0m\u001b[1;33m)\u001b[0m\u001b[1;33m\u001b[0m\u001b[0m\n",
      "\u001b[1;32m~\\AppData\\Local\\conda\\conda\\envs\\Python\\lib\\site-packages\\poco\\proxy.py\u001b[0m in \u001b[0;36mwait_for_appearance\u001b[1;34m(self, timeout)\u001b[0m\n\u001b[0;32m    680\u001b[0m             \u001b[1;32mif\u001b[0m \u001b[0mtime\u001b[0m\u001b[1;33m.\u001b[0m\u001b[0mtime\u001b[0m\u001b[1;33m(\u001b[0m\u001b[1;33m)\u001b[0m \u001b[1;33m-\u001b[0m \u001b[0mstart\u001b[0m \u001b[1;33m>\u001b[0m \u001b[0mtimeout\u001b[0m\u001b[1;33m:\u001b[0m\u001b[1;33m\u001b[0m\u001b[0m\n\u001b[1;32m--> 681\u001b[1;33m                 \u001b[1;32mraise\u001b[0m \u001b[0mPocoTargetTimeout\u001b[0m\u001b[1;33m(\u001b[0m\u001b[1;34m'appearance'\u001b[0m\u001b[1;33m,\u001b[0m \u001b[0mself\u001b[0m\u001b[1;33m)\u001b[0m\u001b[1;33m\u001b[0m\u001b[0m\n\u001b[0m\u001b[0;32m    682\u001b[0m \u001b[1;33m\u001b[0m\u001b[0m\n",
      "\u001b[1;31mPocoTargetTimeout\u001b[0m: Waiting timeout for appearance of \"UIObjectProxy of \"请输入手机号\"\"",
      "\nDuring handling of the above exception, another exception occurred:\n",
      "\u001b[1;31mPocoNoSuchNodeException\u001b[0m                   Traceback (most recent call last)",
      "\u001b[1;32m<ipython-input-17-7d50a899570a>\u001b[0m in \u001b[0;36m<module>\u001b[1;34m()\u001b[0m\n\u001b[0;32m     60\u001b[0m \u001b[0mtext\u001b[0m\u001b[1;33m(\u001b[0m\u001b[1;34m'http://wx.xiaoxiang56.com'\u001b[0m\u001b[1;33m)\u001b[0m\u001b[1;33m\u001b[0m\u001b[0m\n\u001b[0;32m     61\u001b[0m \u001b[0mpoco\u001b[0m\u001b[1;33m(\u001b[0m\u001b[0mname\u001b[0m \u001b[1;33m=\u001b[0m \u001b[1;34m'智能语音'\u001b[0m\u001b[1;33m)\u001b[0m\u001b[1;33m.\u001b[0m\u001b[0mclick\u001b[0m\u001b[1;33m(\u001b[0m\u001b[1;33m)\u001b[0m\u001b[1;33m\u001b[0m\u001b[0m\n\u001b[1;32m---> 62\u001b[1;33m \u001b[0mpoco\u001b[0m\u001b[1;33m(\u001b[0m\u001b[0mname\u001b[0m \u001b[1;33m=\u001b[0m \u001b[1;34m'请输入手机号'\u001b[0m\u001b[1;33m)\u001b[0m\u001b[1;33m.\u001b[0m\u001b[0mclick\u001b[0m\u001b[1;33m(\u001b[0m\u001b[1;33m)\u001b[0m\u001b[1;33m\u001b[0m\u001b[0m\n\u001b[0m\u001b[0;32m     63\u001b[0m \u001b[0mtext\u001b[0m\u001b[1;33m(\u001b[0m\u001b[0mstr\u001b[0m\u001b[1;33m(\u001b[0m\u001b[1;36m18696175001\u001b[0m\u001b[1;33m)\u001b[0m\u001b[1;33m)\u001b[0m\u001b[1;33m\u001b[0m\u001b[0m\n\u001b[0;32m     64\u001b[0m \u001b[0mpoco\u001b[0m\u001b[1;33m(\u001b[0m\u001b[0mname\u001b[0m \u001b[1;33m=\u001b[0m \u001b[1;34m'登录'\u001b[0m\u001b[1;33m)\u001b[0m\u001b[1;33m.\u001b[0m\u001b[0mclick\u001b[0m\u001b[1;33m(\u001b[0m\u001b[1;33m)\u001b[0m\u001b[1;33m\u001b[0m\u001b[0m\n",
      "\u001b[1;32m~\\AppData\\Local\\conda\\conda\\envs\\Python\\lib\\site-packages\\poco\\proxy.py\u001b[0m in \u001b[0;36mwrapped\u001b[1;34m(proxy, *args, **kwargs)\u001b[0m\n\u001b[0;32m     27\u001b[0m                 \u001b[1;32mreturn\u001b[0m \u001b[0mfunc\u001b[0m\u001b[1;33m(\u001b[0m\u001b[0mproxy\u001b[0m\u001b[1;33m,\u001b[0m \u001b[1;33m*\u001b[0m\u001b[0margs\u001b[0m\u001b[1;33m,\u001b[0m \u001b[1;33m**\u001b[0m\u001b[0mkwargs\u001b[0m\u001b[1;33m)\u001b[0m\u001b[1;33m\u001b[0m\u001b[0m\n\u001b[0;32m     28\u001b[0m             \u001b[1;32mexcept\u001b[0m \u001b[0mPocoTargetTimeout\u001b[0m\u001b[1;33m:\u001b[0m\u001b[1;33m\u001b[0m\u001b[0m\n\u001b[1;32m---> 29\u001b[1;33m                 \u001b[1;32mraise\u001b[0m \u001b[0me\u001b[0m\u001b[1;33m\u001b[0m\u001b[0m\n\u001b[0m\u001b[0;32m     30\u001b[0m \u001b[1;33m\u001b[0m\u001b[0m\n\u001b[0;32m     31\u001b[0m     \u001b[1;32mreturn\u001b[0m \u001b[0mwrapped\u001b[0m\u001b[1;33m\u001b[0m\u001b[0m\n",
      "\u001b[1;32m~\\AppData\\Local\\conda\\conda\\envs\\Python\\lib\\site-packages\\poco\\proxy.py\u001b[0m in \u001b[0;36mwrapped\u001b[1;34m(proxy, *args, **kwargs)\u001b[0m\n\u001b[0;32m     21\u001b[0m     \u001b[1;32mdef\u001b[0m \u001b[0mwrapped\u001b[0m\u001b[1;33m(\u001b[0m\u001b[0mproxy\u001b[0m\u001b[1;33m,\u001b[0m \u001b[1;33m*\u001b[0m\u001b[0margs\u001b[0m\u001b[1;33m,\u001b[0m \u001b[1;33m**\u001b[0m\u001b[0mkwargs\u001b[0m\u001b[1;33m)\u001b[0m\u001b[1;33m:\u001b[0m\u001b[1;33m\u001b[0m\u001b[0m\n\u001b[0;32m     22\u001b[0m         \u001b[1;32mtry\u001b[0m\u001b[1;33m:\u001b[0m\u001b[1;33m\u001b[0m\u001b[0m\n\u001b[1;32m---> 23\u001b[1;33m             \u001b[1;32mreturn\u001b[0m \u001b[0mfunc\u001b[0m\u001b[1;33m(\u001b[0m\u001b[0mproxy\u001b[0m\u001b[1;33m,\u001b[0m \u001b[1;33m*\u001b[0m\u001b[0margs\u001b[0m\u001b[1;33m,\u001b[0m \u001b[1;33m**\u001b[0m\u001b[0mkwargs\u001b[0m\u001b[1;33m)\u001b[0m\u001b[1;33m\u001b[0m\u001b[0m\n\u001b[0m\u001b[0;32m     24\u001b[0m         \u001b[1;32mexcept\u001b[0m \u001b[0mPocoNoSuchNodeException\u001b[0m \u001b[1;32mas\u001b[0m \u001b[0me\u001b[0m\u001b[1;33m:\u001b[0m\u001b[1;33m\u001b[0m\u001b[0m\n\u001b[0;32m     25\u001b[0m             \u001b[1;32mtry\u001b[0m\u001b[1;33m:\u001b[0m\u001b[1;33m\u001b[0m\u001b[0m\n",
      "\u001b[1;32m~\\AppData\\Local\\conda\\conda\\envs\\Python\\lib\\site-packages\\poco\\proxy.py\u001b[0m in \u001b[0;36mclick\u001b[1;34m(self, focus, sleep_interval)\u001b[0m\n\u001b[0;32m    330\u001b[0m \u001b[1;33m\u001b[0m\u001b[0m\n\u001b[0;32m    331\u001b[0m         \u001b[0mfocus\u001b[0m \u001b[1;33m=\u001b[0m \u001b[0mfocus\u001b[0m \u001b[1;32mor\u001b[0m \u001b[0mself\u001b[0m\u001b[1;33m.\u001b[0m\u001b[0m_focus\u001b[0m \u001b[1;32mor\u001b[0m \u001b[1;34m'anchor'\u001b[0m\u001b[1;33m\u001b[0m\u001b[0m\n\u001b[1;32m--> 332\u001b[1;33m         \u001b[0mpos_in_percentage\u001b[0m \u001b[1;33m=\u001b[0m \u001b[0mself\u001b[0m\u001b[1;33m.\u001b[0m\u001b[0mget_position\u001b[0m\u001b[1;33m(\u001b[0m\u001b[0mfocus\u001b[0m\u001b[1;33m)\u001b[0m\u001b[1;33m\u001b[0m\u001b[0m\n\u001b[0m\u001b[0;32m    333\u001b[0m         \u001b[0mself\u001b[0m\u001b[1;33m.\u001b[0m\u001b[0mpoco\u001b[0m\u001b[1;33m.\u001b[0m\u001b[0mpre_action\u001b[0m\u001b[1;33m(\u001b[0m\u001b[1;34m'click'\u001b[0m\u001b[1;33m,\u001b[0m \u001b[0mself\u001b[0m\u001b[1;33m,\u001b[0m \u001b[0mpos_in_percentage\u001b[0m\u001b[1;33m)\u001b[0m\u001b[1;33m\u001b[0m\u001b[0m\n\u001b[0;32m    334\u001b[0m         \u001b[0mret\u001b[0m \u001b[1;33m=\u001b[0m \u001b[0mself\u001b[0m\u001b[1;33m.\u001b[0m\u001b[0mpoco\u001b[0m\u001b[1;33m.\u001b[0m\u001b[0mclick\u001b[0m\u001b[1;33m(\u001b[0m\u001b[0mpos_in_percentage\u001b[0m\u001b[1;33m)\u001b[0m\u001b[1;33m\u001b[0m\u001b[0m\n",
      "\u001b[1;32m~\\AppData\\Local\\conda\\conda\\envs\\Python\\lib\\site-packages\\poco\\proxy.py\u001b[0m in \u001b[0;36mwrapped\u001b[1;34m(proxy, *args, **kwargs)\u001b[0m\n\u001b[0;32m     70\u001b[0m             \u001b[1;32mif\u001b[0m \u001b[1;32mnot\u001b[0m \u001b[0mrc\u001b[0m\u001b[1;33m.\u001b[0m\u001b[0mwith_this_batch\u001b[0m \u001b[1;32mand\u001b[0m \u001b[0mproxy\u001b[0m\u001b[1;33m.\u001b[0m\u001b[0mpoco\u001b[0m\u001b[1;33m.\u001b[0m\u001b[0m_reevaluate_volatile_attributes\u001b[0m\u001b[1;33m:\u001b[0m\u001b[1;33m\u001b[0m\u001b[0m\n\u001b[0;32m     71\u001b[0m                 \u001b[0mproxy\u001b[0m\u001b[1;33m.\u001b[0m\u001b[0m_evaluated\u001b[0m \u001b[1;33m=\u001b[0m \u001b[1;32mFalse\u001b[0m\u001b[1;33m\u001b[0m\u001b[0m\n\u001b[1;32m---> 72\u001b[1;33m             \u001b[1;32mreturn\u001b[0m \u001b[0mfunc\u001b[0m\u001b[1;33m(\u001b[0m\u001b[0mproxy\u001b[0m\u001b[1;33m,\u001b[0m \u001b[1;33m*\u001b[0m\u001b[0margs\u001b[0m\u001b[1;33m,\u001b[0m \u001b[1;33m**\u001b[0m\u001b[0mkwargs\u001b[0m\u001b[1;33m)\u001b[0m\u001b[1;33m\u001b[0m\u001b[0m\n\u001b[0m\u001b[0;32m     73\u001b[0m \u001b[1;33m\u001b[0m\u001b[0m\n\u001b[0;32m     74\u001b[0m     \u001b[1;32mreturn\u001b[0m \u001b[0mwrapped\u001b[0m\u001b[1;33m\u001b[0m\u001b[0m\n",
      "\u001b[1;32m~\\AppData\\Local\\conda\\conda\\envs\\Python\\lib\\site-packages\\poco\\proxy.py\u001b[0m in \u001b[0;36mget_position\u001b[1;34m(self, focus)\u001b[0m\n\u001b[0;32m    611\u001b[0m         \u001b[0mfocus\u001b[0m \u001b[1;33m=\u001b[0m \u001b[0mfocus\u001b[0m \u001b[1;32mor\u001b[0m \u001b[0mself\u001b[0m\u001b[1;33m.\u001b[0m\u001b[0m_focus\u001b[0m \u001b[1;32mor\u001b[0m \u001b[1;34m'anchor'\u001b[0m\u001b[1;33m\u001b[0m\u001b[0m\n\u001b[0;32m    612\u001b[0m         \u001b[1;32mif\u001b[0m \u001b[0mfocus\u001b[0m \u001b[1;33m==\u001b[0m \u001b[1;34m'anchor'\u001b[0m\u001b[1;33m:\u001b[0m\u001b[1;33m\u001b[0m\u001b[0m\n\u001b[1;32m--> 613\u001b[1;33m             \u001b[0mpos\u001b[0m \u001b[1;33m=\u001b[0m \u001b[0mself\u001b[0m\u001b[1;33m.\u001b[0m\u001b[0mattr\u001b[0m\u001b[1;33m(\u001b[0m\u001b[1;34m'pos'\u001b[0m\u001b[1;33m)\u001b[0m\u001b[1;33m\u001b[0m\u001b[0m\n\u001b[0m\u001b[0;32m    614\u001b[0m         \u001b[1;32melif\u001b[0m \u001b[0mfocus\u001b[0m \u001b[1;33m==\u001b[0m \u001b[1;34m'center'\u001b[0m\u001b[1;33m:\u001b[0m\u001b[1;33m\u001b[0m\u001b[0m\n\u001b[0;32m    615\u001b[0m             \u001b[0mx\u001b[0m\u001b[1;33m,\u001b[0m \u001b[0my\u001b[0m \u001b[1;33m=\u001b[0m \u001b[0mself\u001b[0m\u001b[1;33m.\u001b[0m\u001b[0mattr\u001b[0m\u001b[1;33m(\u001b[0m\u001b[1;34m'pos'\u001b[0m\u001b[1;33m)\u001b[0m\u001b[1;33m\u001b[0m\u001b[0m\n",
      "\u001b[1;32m~\\AppData\\Local\\conda\\conda\\envs\\Python\\lib\\site-packages\\poco\\proxy.py\u001b[0m in \u001b[0;36mwrapped\u001b[1;34m(self, *args, **kwargs)\u001b[0m\n\u001b[0;32m     37\u001b[0m         \u001b[1;32mdef\u001b[0m \u001b[0mwrapped\u001b[0m\u001b[1;33m(\u001b[0m\u001b[0mself\u001b[0m\u001b[1;33m,\u001b[0m \u001b[1;33m*\u001b[0m\u001b[0margs\u001b[0m\u001b[1;33m,\u001b[0m \u001b[1;33m**\u001b[0m\u001b[0mkwargs\u001b[0m\u001b[1;33m)\u001b[0m\u001b[1;33m:\u001b[0m\u001b[1;33m\u001b[0m\u001b[0m\n\u001b[0;32m     38\u001b[0m             \u001b[1;32mtry\u001b[0m\u001b[1;33m:\u001b[0m\u001b[1;33m\u001b[0m\u001b[0m\n\u001b[1;32m---> 39\u001b[1;33m                 \u001b[1;32mreturn\u001b[0m \u001b[0mfunc\u001b[0m\u001b[1;33m(\u001b[0m\u001b[0mself\u001b[0m\u001b[1;33m,\u001b[0m \u001b[1;33m*\u001b[0m\u001b[0margs\u001b[0m\u001b[1;33m,\u001b[0m \u001b[1;33m**\u001b[0m\u001b[0mkwargs\u001b[0m\u001b[1;33m)\u001b[0m\u001b[1;33m\u001b[0m\u001b[0m\n\u001b[0m\u001b[0;32m     40\u001b[0m             \u001b[1;32mexcept\u001b[0m \u001b[0merr_type\u001b[0m\u001b[1;33m:\u001b[0m\u001b[1;33m\u001b[0m\u001b[0m\n\u001b[0;32m     41\u001b[0m                 \u001b[0mself\u001b[0m\u001b[1;33m.\u001b[0m\u001b[0m_do_query\u001b[0m\u001b[1;33m(\u001b[0m\u001b[0mmultiple\u001b[0m\u001b[1;33m=\u001b[0m\u001b[1;32mFalse\u001b[0m\u001b[1;33m,\u001b[0m \u001b[0mrefresh\u001b[0m\u001b[1;33m=\u001b[0m\u001b[1;32mTrue\u001b[0m\u001b[1;33m)\u001b[0m\u001b[1;33m\u001b[0m\u001b[0m\n",
      "\u001b[1;32m~\\AppData\\Local\\conda\\conda\\envs\\Python\\lib\\site-packages\\poco\\proxy.py\u001b[0m in \u001b[0;36mattr\u001b[1;34m(self, name)\u001b[0m\n\u001b[0;32m    732\u001b[0m         \u001b[1;31m# to optimize performance speed, retrieve only the first matched element.\u001b[0m\u001b[1;33m\u001b[0m\u001b[1;33m\u001b[0m\u001b[0m\n\u001b[0;32m    733\u001b[0m         \u001b[1;31m# 优化速度，只选择第一个匹配到的节点\u001b[0m\u001b[1;33m\u001b[0m\u001b[1;33m\u001b[0m\u001b[0m\n\u001b[1;32m--> 734\u001b[1;33m         \u001b[0mnodes\u001b[0m \u001b[1;33m=\u001b[0m \u001b[0mself\u001b[0m\u001b[1;33m.\u001b[0m\u001b[0m_do_query\u001b[0m\u001b[1;33m(\u001b[0m\u001b[0mmultiple\u001b[0m\u001b[1;33m=\u001b[0m\u001b[1;32mFalse\u001b[0m\u001b[1;33m)\u001b[0m\u001b[1;33m\u001b[0m\u001b[0m\n\u001b[0m\u001b[0;32m    735\u001b[0m         \u001b[0mval\u001b[0m \u001b[1;33m=\u001b[0m \u001b[0mself\u001b[0m\u001b[1;33m.\u001b[0m\u001b[0mpoco\u001b[0m\u001b[1;33m.\u001b[0m\u001b[0magent\u001b[0m\u001b[1;33m.\u001b[0m\u001b[0mhierarchy\u001b[0m\u001b[1;33m.\u001b[0m\u001b[0mgetAttr\u001b[0m\u001b[1;33m(\u001b[0m\u001b[0mnodes\u001b[0m\u001b[1;33m,\u001b[0m \u001b[0mname\u001b[0m\u001b[1;33m)\u001b[0m\u001b[1;33m\u001b[0m\u001b[0m\n\u001b[0;32m    736\u001b[0m         \u001b[1;32mif\u001b[0m \u001b[0msix\u001b[0m\u001b[1;33m.\u001b[0m\u001b[0mPY2\u001b[0m \u001b[1;32mand\u001b[0m \u001b[0misinstance\u001b[0m\u001b[1;33m(\u001b[0m\u001b[0mval\u001b[0m\u001b[1;33m,\u001b[0m \u001b[0msix\u001b[0m\u001b[1;33m.\u001b[0m\u001b[0mtext_type\u001b[0m\u001b[1;33m)\u001b[0m\u001b[1;33m:\u001b[0m\u001b[1;33m\u001b[0m\u001b[0m\n",
      "\u001b[1;32m~\\AppData\\Local\\conda\\conda\\envs\\Python\\lib\\site-packages\\poco\\proxy.py\u001b[0m in \u001b[0;36m_do_query\u001b[1;34m(self, multiple, refresh)\u001b[0m\n\u001b[0;32m    872\u001b[0m             \u001b[0mself\u001b[0m\u001b[1;33m.\u001b[0m\u001b[0m_nodes\u001b[0m \u001b[1;33m=\u001b[0m \u001b[0mself\u001b[0m\u001b[1;33m.\u001b[0m\u001b[0mpoco\u001b[0m\u001b[1;33m.\u001b[0m\u001b[0magent\u001b[0m\u001b[1;33m.\u001b[0m\u001b[0mhierarchy\u001b[0m\u001b[1;33m.\u001b[0m\u001b[0mselect\u001b[0m\u001b[1;33m(\u001b[0m\u001b[0mself\u001b[0m\u001b[1;33m.\u001b[0m\u001b[0mquery\u001b[0m\u001b[1;33m,\u001b[0m \u001b[0mmultiple\u001b[0m\u001b[1;33m)\u001b[0m\u001b[1;33m\u001b[0m\u001b[0m\n\u001b[0;32m    873\u001b[0m             \u001b[1;32mif\u001b[0m \u001b[0mlen\u001b[0m\u001b[1;33m(\u001b[0m\u001b[0mself\u001b[0m\u001b[1;33m.\u001b[0m\u001b[0m_nodes\u001b[0m\u001b[1;33m)\u001b[0m \u001b[1;33m==\u001b[0m \u001b[1;36m0\u001b[0m\u001b[1;33m:\u001b[0m\u001b[1;33m\u001b[0m\u001b[0m\n\u001b[1;32m--> 874\u001b[1;33m                 \u001b[1;32mraise\u001b[0m \u001b[0mPocoNoSuchNodeException\u001b[0m\u001b[1;33m(\u001b[0m\u001b[0mself\u001b[0m\u001b[1;33m)\u001b[0m\u001b[1;33m\u001b[0m\u001b[0m\n\u001b[0m\u001b[0;32m    875\u001b[0m             \u001b[0mself\u001b[0m\u001b[1;33m.\u001b[0m\u001b[0m_evaluated\u001b[0m \u001b[1;33m=\u001b[0m \u001b[1;32mTrue\u001b[0m\u001b[1;33m\u001b[0m\u001b[0m\n\u001b[0;32m    876\u001b[0m             \u001b[0mself\u001b[0m\u001b[1;33m.\u001b[0m\u001b[0m_query_multiple\u001b[0m \u001b[1;33m=\u001b[0m \u001b[0mmultiple\u001b[0m\u001b[1;33m\u001b[0m\u001b[0m\n",
      "\u001b[1;31mPocoNoSuchNodeException\u001b[0m: Cannot find any visible node by query UIObjectProxy of \"请输入手机号\""
     ]
    }
   ],
   "source": [
    "import random\n",
    "from airtest.core.api import *\n",
    "from poco.drivers.android.uiautomation import AndroidUiautomationPoco\n",
    "\n",
    "poco = AndroidUiautomationPoco()\n",
    "poco.device.wake()\n",
    "init_device(\"Android\") \n",
    "connect_device(\"android:127.0.0.1:7555\") # 选中设备\n",
    "\n",
    "\n",
    "# 生成手机号\n",
    "def create_phone():\n",
    "    # 第二位数字\n",
    "    second = [3, 4, 5, 7, 8][random.randint(0, 4)]\n",
    "    # 第三位数字\n",
    "    third = {\n",
    "        3: random.randint(0, 9),\n",
    "        4: [5, 7, 9][random.randint(0, 2)],\n",
    "        5: [i for i in range(10) if i != 4][random.randint(0, 8)],\n",
    "        7: [i for i in range(10) if i not in [4, 9]][random.randint(0, 7)],\n",
    "        8: random.randint(0, 9),\n",
    "    }[second]\n",
    "    # 最后八位数字\n",
    "    suffix = random.randint(9999999,100000000)\n",
    "    # 拼接手机号\n",
    "    return \"1{}{}{}\".format(second, third, suffix)\n",
    "phone = create_phone()\n",
    "\n",
    "\n",
    "# 登录经纪人\n",
    "home()\n",
    "poco(text = '#1 QQ浏览器').click()\n",
    "\n",
    "\n",
    "\n",
    "\n",
    "\n",
    "# 登录司机\n",
    "home()\n",
    "poco(text = '#2 QQ浏览器').click()\n",
    "# poco(name = '搜索或输入网址').click()\n",
    "# text('http://wx.xiaoxiang56.com')\n",
    "# poco(name = '智能语音').click()\n",
    "#poco(name = '请输入手机号').click()\n",
    "#text(str(18682299065))\n",
    "#poco(name = '登录').click()\n",
    "#sleep(10) # 输入验证嘛\n",
    "\n",
    "\n",
    "# 登录个人货主\n",
    "home()\n",
    "poco(text = '#3 QQ浏览器').click()\n",
    "\n",
    "\n",
    "\n",
    "# 登录经纪人\n",
    "home()\n",
    "poco(text = '#1 QQ浏览器').click()\n",
    "poco(text = '搜索或输入网址').click()\n",
    "text('http://wx.xiaoxiang56.com')\n",
    "poco(name = '智能语音').click()\n",
    "#poco(name = '请输入手机号').click()\n",
    "#text(str(18696175001))\n",
    "#poco(name = '登录').click()\n",
    "poco(name = '发货').click()\n",
    "\n"
   ]
  },
  {
   "cell_type": "code",
   "execution_count": null,
   "metadata": {},
   "outputs": [],
   "source": []
  },
  {
   "cell_type": "code",
   "execution_count": null,
   "metadata": {},
   "outputs": [],
   "source": []
  }
 ],
 "metadata": {
  "kernelspec": {
   "display_name": "Python 3",
   "language": "python",
   "name": "python3"
  },
  "language_info": {
   "codemirror_mode": {
    "name": "ipython",
    "version": 3
   },
   "file_extension": ".py",
   "mimetype": "text/x-python",
   "name": "python",
   "nbconvert_exporter": "python",
   "pygments_lexer": "ipython3",
   "version": "3.5.6"
  }
 },
 "nbformat": 4,
 "nbformat_minor": 2
}
