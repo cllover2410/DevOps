{
 "cells": [
  {
   "cell_type": "code",
   "execution_count": 4,
   "metadata": {},
   "outputs": [
    {
     "data": {
      "text/plain": [
       "'18362234882'"
      ]
     },
     "execution_count": 4,
     "metadata": {},
     "output_type": "execute_result"
    }
   ],
   "source": [
    "import random\n",
    "# 生成手机号\n",
    "def create_phone():\n",
    "    # 第二位数字\n",
    "    second = [3, 4, 5, 7, 8][random.randint(0, 4)]\n",
    "    # 第三位数字\n",
    "    third = {\n",
    "        3: random.randint(0, 9),\n",
    "        4: [5, 7, 9][random.randint(0, 2)],\n",
    "        5: [i for i in range(10) if i != 4][random.randint(0, 8)],\n",
    "        7: [i for i in range(10) if i not in [4, 9]][random.randint(0, 7)],\n",
    "        8: random.randint(0, 9),\n",
    "    }[second]\n",
    "    # 最后八位数字\n",
    "    suffix = random.randint(9999999,100000000)\n",
    "    # 拼接手机号\n",
    "    return \"1{}{}{}\".format(second, third, suffix)\n",
    "phone = create_phone()\n",
    "phone"
   ]
  },
  {
   "cell_type": "code",
   "execution_count": null,
   "metadata": {},
   "outputs": [],
   "source": [
    "14731776951\n",
    "\n",
    "14583983257\n",
    "\n",
    "18362234882"
   ]
  }
 ],
 "metadata": {
  "kernelspec": {
   "display_name": "Python 3",
   "language": "python",
   "name": "python3"
  },
  "language_info": {
   "codemirror_mode": {
    "name": "ipython",
    "version": 3
   },
   "file_extension": ".py",
   "mimetype": "text/x-python",
   "name": "python",
   "nbconvert_exporter": "python",
   "pygments_lexer": "ipython3",
   "version": "3.5.6"
  }
 },
 "nbformat": 4,
 "nbformat_minor": 2
}
