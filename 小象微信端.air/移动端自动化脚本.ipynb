{
 "cells": [
  {
   "cell_type": "code",
   "execution_count": 3,
   "metadata": {
    "scrolled": true
   },
   "outputs": [
    {
     "name": "stderr",
     "output_type": "stream",
     "text": [
      "[03:10:34][DEBUG]<airtest.core.android.adb> C:\\Users\\zhangweiwei\\AppData\\Local\\conda\\conda\\envs\\Python\\lib\\site-packages\\airtest\\core\\android\\static\\adb\\windows\\adb.exe -s 127.0.0.1:7555 shell dumpsys activity top ; echo ---$?---\n",
      "[03:10:35][DEBUG]<airtest.core.android.adb> C:\\Users\\zhangweiwei\\AppData\\Local\\conda\\conda\\envs\\Python\\lib\\site-packages\\airtest\\core\\android\\static\\adb\\windows\\adb.exe -s 127.0.0.1:7555 shell dumpsys package com.netease.nie.yosemite ; echo ---$?---\n",
      "[03:10:35][INFO]<airtest.core.android.yosemite> local version code is 288, installed version code is 288\n",
      "[03:10:35][DEBUG]<airtest.core.android.adb> C:\\Users\\zhangweiwei\\AppData\\Local\\conda\\conda\\envs\\Python\\lib\\site-packages\\airtest\\core\\android\\static\\adb\\windows\\adb.exe -s 127.0.0.1:7555 shell settings get secure default_input_method ; echo ---$?---\n",
      "[03:10:36][DEBUG]<airtest.core.android.adb> C:\\Users\\zhangweiwei\\AppData\\Local\\conda\\conda\\envs\\Python\\lib\\site-packages\\airtest\\core\\android\\static\\adb\\windows\\adb.exe -s 127.0.0.1:7555 shell ime list -a ; echo ---$?---\n",
      "[03:10:37][DEBUG]<airtest.core.android.adb> C:\\Users\\zhangweiwei\\AppData\\Local\\conda\\conda\\envs\\Python\\lib\\site-packages\\airtest\\core\\android\\static\\adb\\windows\\adb.exe -s 127.0.0.1:7555 shell dumpsys package com.netease.open.pocoservice ; echo ---$?---\n",
      "[03:10:37][DEBUG]<airtest.core.android.adb> C:\\Users\\zhangweiwei\\AppData\\Local\\conda\\conda\\envs\\Python\\lib\\site-packages\\airtest\\core\\android\\static\\adb\\windows\\adb.exe -s 127.0.0.1:7555 shell dumpsys package com.netease.open.pocoservice.test ; echo ---$?---\n"
     ]
    },
    {
     "name": "stdout",
     "output_type": "stream",
     "text": [
      "installed version is 41, installer version is 41. force_reinstall=False\n"
     ]
    },
    {
     "name": "stderr",
     "output_type": "stream",
     "text": [
      "[03:10:38][DEBUG]<airtest.core.android.adb> C:\\Users\\zhangweiwei\\AppData\\Local\\conda\\conda\\envs\\Python\\lib\\site-packages\\airtest\\core\\android\\static\\adb\\windows\\adb.exe -s 127.0.0.1:7555 forward --no-rebind tcp:18422 tcp:10080\n"
     ]
    },
    {
     "name": "stdout",
     "output_type": "stream",
     "text": [
      "installed version is 0, installer version is 0. force_reinstall=False\n"
     ]
    },
    {
     "name": "stderr",
     "output_type": "stream",
     "text": [
      "[03:10:38][DEBUG]<airtest.core.android.adb> C:\\Users\\zhangweiwei\\AppData\\Local\\conda\\conda\\envs\\Python\\lib\\site-packages\\airtest\\core\\android\\static\\adb\\windows\\adb.exe -s 127.0.0.1:7555 forward --no-rebind tcp:12642 tcp:10081\n",
      "[03:10:38][DEBUG]<airtest.core.android.adb> C:\\Users\\zhangweiwei\\AppData\\Local\\conda\\conda\\envs\\Python\\lib\\site-packages\\airtest\\core\\android\\static\\adb\\windows\\adb.exe -s 127.0.0.1:7555 shell ps ; echo ---$?---\n",
      "[03:10:39][DEBUG]<airtest.core.android.adb> C:\\Users\\zhangweiwei\\AppData\\Local\\conda\\conda\\envs\\Python\\lib\\site-packages\\airtest\\core\\android\\static\\adb\\windows\\adb.exe -s 127.0.0.1:7555 shell input keyevent HOME ; echo ---$?---\n",
      "[03:10:40][DEBUG]<airtest.core.android.adb> C:\\Users\\zhangweiwei\\AppData\\Local\\conda\\conda\\envs\\Python\\lib\\site-packages\\airtest\\core\\android\\static\\adb\\windows\\adb.exe -s 127.0.0.1:7555 shell dumpsys package com.netease.nie.yosemite ; echo ---$?---\n",
      "[03:10:40][INFO]<airtest.core.android.yosemite> local version code is 288, installed version code is 288\n",
      "[03:10:40][DEBUG]<airtest.core.android.adb> C:\\Users\\zhangweiwei\\AppData\\Local\\conda\\conda\\envs\\Python\\lib\\site-packages\\airtest\\core\\android\\static\\adb\\windows\\adb.exe -s 127.0.0.1:7555 shell am start -a com.netease.nie.yosemite.ACTION_IDENTIFY ; echo ---$?---\n",
      "[03:10:41][DEBUG]<airtest.core.android.adb> C:\\Users\\zhangweiwei\\AppData\\Local\\conda\\conda\\envs\\Python\\lib\\site-packages\\airtest\\core\\android\\static\\adb\\windows\\adb.exe -s 127.0.0.1:7555 shell input keyevent HOME ; echo ---$?---\n",
      "[03:10:42][DEBUG]<airtest.core.android.adb> C:\\Users\\zhangweiwei\\AppData\\Local\\conda\\conda\\envs\\Python\\lib\\site-packages\\airtest\\core\\android\\static\\adb\\windows\\adb.exe devices\n",
      "[03:10:42][DEBUG]<airtest.core.android.adb> C:\\Users\\zhangweiwei\\AppData\\Local\\conda\\conda\\envs\\Python\\lib\\site-packages\\airtest\\core\\android\\static\\adb\\windows\\adb.exe devices\n",
      "[03:10:42][DEBUG]<airtest.core.android.adb> C:\\Users\\zhangweiwei\\AppData\\Local\\conda\\conda\\envs\\Python\\lib\\site-packages\\airtest\\core\\android\\static\\adb\\windows\\adb.exe -s edaa9d53 wait-for-device\n",
      "[03:10:43][DEBUG]<airtest.core.android.adb> C:\\Users\\zhangweiwei\\AppData\\Local\\conda\\conda\\envs\\Python\\lib\\site-packages\\airtest\\core\\android\\static\\adb\\windows\\adb.exe -s edaa9d53 shell getprop ro.build.version.sdk\n",
      "[03:10:43][WARNING]<airtest.core.api> Device:edaa9d53 updated <airtest.core.android.android.Android object at 0x0000020996A2C2E8> -> <airtest.core.android.android.Android object at 0x0000020996896C50>\n",
      "[03:10:43][DEBUG]<airtest.core.android.adb> C:\\Users\\zhangweiwei\\AppData\\Local\\conda\\conda\\envs\\Python\\lib\\site-packages\\airtest\\core\\android\\static\\adb\\windows\\adb.exe -s 127.0.0.1:7555 get-state\n",
      "[03:10:43][DEBUG]<airtest.core.android.adb> C:\\Users\\zhangweiwei\\AppData\\Local\\conda\\conda\\envs\\Python\\lib\\site-packages\\airtest\\core\\android\\static\\adb\\windows\\adb.exe -s 127.0.0.1:7555 wait-for-device\n",
      "[03:10:44][DEBUG]<airtest.core.android.adb> C:\\Users\\zhangweiwei\\AppData\\Local\\conda\\conda\\envs\\Python\\lib\\site-packages\\airtest\\core\\android\\static\\adb\\windows\\adb.exe -s 127.0.0.1:7555 shell getprop ro.build.version.sdk\n",
      "[03:10:44][WARNING]<airtest.core.api> Device:127.0.0.1:7555 updated <airtest.core.android.android.Android object at 0x0000020996A0CEB8> -> <airtest.core.android.android.Android object at 0x0000020996A2C0F0>\n",
      "[03:10:44][INFO]<airtest.core.api> Try finding:\n",
      "Template(tpl1554188959559.png)\n",
      "[03:10:44][DEBUG]<airtest.core.android.adb> C:\\Users\\zhangweiwei\\AppData\\Local\\conda\\conda\\envs\\Python\\lib\\site-packages\\airtest\\core\\android\\static\\adb\\windows\\adb.exe -s 127.0.0.1:7555 forward --no-rebind tcp:12103 localabstract:minicap_12103\n",
      "[03:10:45][DEBUG]<airtest.core.android.adb> C:\\Users\\zhangweiwei\\AppData\\Local\\conda\\conda\\envs\\Python\\lib\\site-packages\\airtest\\core\\android\\static\\adb\\windows\\adb.exe -s 127.0.0.1:7555 shell LD_LIBRARY_PATH=/data/local/tmp /data/local/tmp/minicap -i ; echo ---$?---\n"
     ]
    },
    {
     "ename": "JSONDecodeError",
     "evalue": "Expecting value: line 1 column 1 (char 0)",
     "output_type": "error",
     "traceback": [
      "\u001b[1;31m---------------------------------------------------------------------------\u001b[0m",
      "\u001b[1;31mJSONDecodeError\u001b[0m                           Traceback (most recent call last)",
      "\u001b[1;32m<ipython-input-3-878932419b7e>\u001b[0m in \u001b[0;36m<module>\u001b[1;34m()\u001b[0m\n\u001b[0;32m     32\u001b[0m \u001b[1;31m# 登录企业货主\u001b[0m\u001b[1;33m\u001b[0m\u001b[1;33m\u001b[0m\u001b[0m\n\u001b[0;32m     33\u001b[0m \u001b[1;33m\u001b[0m\u001b[0m\n\u001b[1;32m---> 34\u001b[1;33m \u001b[0mtouch\u001b[0m\u001b[1;33m(\u001b[0m\u001b[0mTemplate\u001b[0m\u001b[1;33m(\u001b[0m\u001b[1;34mr\"tpl1554188959559.png\"\u001b[0m\u001b[1;33m,\u001b[0m \u001b[0mrecord_pos\u001b[0m\u001b[1;33m=\u001b[0m\u001b[1;33m(\u001b[0m\u001b[1;36m0.335\u001b[0m\u001b[1;33m,\u001b[0m \u001b[1;33m-\u001b[0m\u001b[1;36m0.132\u001b[0m\u001b[1;33m)\u001b[0m\u001b[1;33m,\u001b[0m \u001b[0mresolution\u001b[0m\u001b[1;33m=\u001b[0m\u001b[1;33m(\u001b[0m\u001b[1;36m1080\u001b[0m\u001b[1;33m,\u001b[0m \u001b[1;36m1920\u001b[0m\u001b[1;33m)\u001b[0m\u001b[1;33m)\u001b[0m\u001b[1;33m)\u001b[0m\u001b[1;33m\u001b[0m\u001b[0m\n\u001b[0m\u001b[0;32m     35\u001b[0m \u001b[1;33m\u001b[0m\u001b[0m\n\u001b[0;32m     36\u001b[0m \u001b[1;33m\u001b[0m\u001b[0m\n",
      "\u001b[1;32m~\\AppData\\Local\\conda\\conda\\envs\\Python\\lib\\site-packages\\airtest\\utils\\logwraper.py\u001b[0m in \u001b[0;36mwrapper\u001b[1;34m(*args, **kwargs)\u001b[0m\n\u001b[0;32m     70\u001b[0m         \u001b[0mlogger\u001b[0m\u001b[1;33m.\u001b[0m\u001b[0mrunning_stack\u001b[0m\u001b[1;33m.\u001b[0m\u001b[0mappend\u001b[0m\u001b[1;33m(\u001b[0m\u001b[0mfndata\u001b[0m\u001b[1;33m)\u001b[0m\u001b[1;33m\u001b[0m\u001b[0m\n\u001b[0;32m     71\u001b[0m         \u001b[1;32mtry\u001b[0m\u001b[1;33m:\u001b[0m\u001b[1;33m\u001b[0m\u001b[0m\n\u001b[1;32m---> 72\u001b[1;33m             \u001b[0mres\u001b[0m \u001b[1;33m=\u001b[0m \u001b[0mf\u001b[0m\u001b[1;33m(\u001b[0m\u001b[1;33m*\u001b[0m\u001b[0margs\u001b[0m\u001b[1;33m,\u001b[0m \u001b[1;33m**\u001b[0m\u001b[0mkwargs\u001b[0m\u001b[1;33m)\u001b[0m\u001b[1;33m\u001b[0m\u001b[0m\n\u001b[0m\u001b[0;32m     73\u001b[0m         \u001b[1;32mexcept\u001b[0m \u001b[0mException\u001b[0m \u001b[1;32mas\u001b[0m \u001b[0me\u001b[0m\u001b[1;33m:\u001b[0m\u001b[1;33m\u001b[0m\u001b[0m\n\u001b[0;32m     74\u001b[0m             \u001b[0mdata\u001b[0m \u001b[1;33m=\u001b[0m \u001b[1;33m{\u001b[0m\u001b[1;34m\"traceback\"\u001b[0m\u001b[1;33m:\u001b[0m \u001b[0mtraceback\u001b[0m\u001b[1;33m.\u001b[0m\u001b[0mformat_exc\u001b[0m\u001b[1;33m(\u001b[0m\u001b[1;33m)\u001b[0m\u001b[1;33m,\u001b[0m \u001b[1;34m\"end_time\"\u001b[0m\u001b[1;33m:\u001b[0m \u001b[0mtime\u001b[0m\u001b[1;33m.\u001b[0m\u001b[0mtime\u001b[0m\u001b[1;33m(\u001b[0m\u001b[1;33m)\u001b[0m\u001b[1;33m}\u001b[0m\u001b[1;33m\u001b[0m\u001b[0m\n",
      "\u001b[1;32m~\\AppData\\Local\\conda\\conda\\envs\\Python\\lib\\site-packages\\airtest\\core\\api.py\u001b[0m in \u001b[0;36mtouch\u001b[1;34m(v, times, **kwargs)\u001b[0m\n\u001b[0;32m    253\u001b[0m     \"\"\"\n\u001b[0;32m    254\u001b[0m     \u001b[1;32mif\u001b[0m \u001b[0misinstance\u001b[0m\u001b[1;33m(\u001b[0m\u001b[0mv\u001b[0m\u001b[1;33m,\u001b[0m \u001b[0mTemplate\u001b[0m\u001b[1;33m)\u001b[0m\u001b[1;33m:\u001b[0m\u001b[1;33m\u001b[0m\u001b[0m\n\u001b[1;32m--> 255\u001b[1;33m         \u001b[0mpos\u001b[0m \u001b[1;33m=\u001b[0m \u001b[0mloop_find\u001b[0m\u001b[1;33m(\u001b[0m\u001b[0mv\u001b[0m\u001b[1;33m,\u001b[0m \u001b[0mtimeout\u001b[0m\u001b[1;33m=\u001b[0m\u001b[0mST\u001b[0m\u001b[1;33m.\u001b[0m\u001b[0mFIND_TIMEOUT\u001b[0m\u001b[1;33m)\u001b[0m\u001b[1;33m\u001b[0m\u001b[0m\n\u001b[0m\u001b[0;32m    256\u001b[0m     \u001b[1;32melse\u001b[0m\u001b[1;33m:\u001b[0m\u001b[1;33m\u001b[0m\u001b[0m\n\u001b[0;32m    257\u001b[0m         \u001b[0mtry_log_screen\u001b[0m\u001b[1;33m(\u001b[0m\u001b[1;33m)\u001b[0m\u001b[1;33m\u001b[0m\u001b[0m\n",
      "\u001b[1;32m~\\AppData\\Local\\conda\\conda\\envs\\Python\\lib\\site-packages\\airtest\\utils\\logwraper.py\u001b[0m in \u001b[0;36mwrapper\u001b[1;34m(*args, **kwargs)\u001b[0m\n\u001b[0;32m     70\u001b[0m         \u001b[0mlogger\u001b[0m\u001b[1;33m.\u001b[0m\u001b[0mrunning_stack\u001b[0m\u001b[1;33m.\u001b[0m\u001b[0mappend\u001b[0m\u001b[1;33m(\u001b[0m\u001b[0mfndata\u001b[0m\u001b[1;33m)\u001b[0m\u001b[1;33m\u001b[0m\u001b[0m\n\u001b[0;32m     71\u001b[0m         \u001b[1;32mtry\u001b[0m\u001b[1;33m:\u001b[0m\u001b[1;33m\u001b[0m\u001b[0m\n\u001b[1;32m---> 72\u001b[1;33m             \u001b[0mres\u001b[0m \u001b[1;33m=\u001b[0m \u001b[0mf\u001b[0m\u001b[1;33m(\u001b[0m\u001b[1;33m*\u001b[0m\u001b[0margs\u001b[0m\u001b[1;33m,\u001b[0m \u001b[1;33m**\u001b[0m\u001b[0mkwargs\u001b[0m\u001b[1;33m)\u001b[0m\u001b[1;33m\u001b[0m\u001b[0m\n\u001b[0m\u001b[0;32m     73\u001b[0m         \u001b[1;32mexcept\u001b[0m \u001b[0mException\u001b[0m \u001b[1;32mas\u001b[0m \u001b[0me\u001b[0m\u001b[1;33m:\u001b[0m\u001b[1;33m\u001b[0m\u001b[0m\n\u001b[0;32m     74\u001b[0m             \u001b[0mdata\u001b[0m \u001b[1;33m=\u001b[0m \u001b[1;33m{\u001b[0m\u001b[1;34m\"traceback\"\u001b[0m\u001b[1;33m:\u001b[0m \u001b[0mtraceback\u001b[0m\u001b[1;33m.\u001b[0m\u001b[0mformat_exc\u001b[0m\u001b[1;33m(\u001b[0m\u001b[1;33m)\u001b[0m\u001b[1;33m,\u001b[0m \u001b[1;34m\"end_time\"\u001b[0m\u001b[1;33m:\u001b[0m \u001b[0mtime\u001b[0m\u001b[1;33m.\u001b[0m\u001b[0mtime\u001b[0m\u001b[1;33m(\u001b[0m\u001b[1;33m)\u001b[0m\u001b[1;33m}\u001b[0m\u001b[1;33m\u001b[0m\u001b[0m\n",
      "\u001b[1;32m~\\AppData\\Local\\conda\\conda\\envs\\Python\\lib\\site-packages\\airtest\\core\\cv.py\u001b[0m in \u001b[0;36mloop_find\u001b[1;34m(query, timeout, threshold, interval, intervalfunc)\u001b[0m\n\u001b[0;32m     40\u001b[0m     \u001b[0mstart_time\u001b[0m \u001b[1;33m=\u001b[0m \u001b[0mtime\u001b[0m\u001b[1;33m.\u001b[0m\u001b[0mtime\u001b[0m\u001b[1;33m(\u001b[0m\u001b[1;33m)\u001b[0m\u001b[1;33m\u001b[0m\u001b[0m\n\u001b[0;32m     41\u001b[0m     \u001b[1;32mwhile\u001b[0m \u001b[1;32mTrue\u001b[0m\u001b[1;33m:\u001b[0m\u001b[1;33m\u001b[0m\u001b[0m\n\u001b[1;32m---> 42\u001b[1;33m         \u001b[0mscreen\u001b[0m \u001b[1;33m=\u001b[0m \u001b[0mG\u001b[0m\u001b[1;33m.\u001b[0m\u001b[0mDEVICE\u001b[0m\u001b[1;33m.\u001b[0m\u001b[0msnapshot\u001b[0m\u001b[1;33m(\u001b[0m\u001b[0mfilename\u001b[0m\u001b[1;33m=\u001b[0m\u001b[1;32mNone\u001b[0m\u001b[1;33m)\u001b[0m\u001b[1;33m\u001b[0m\u001b[0m\n\u001b[0m\u001b[0;32m     43\u001b[0m \u001b[1;33m\u001b[0m\u001b[0m\n\u001b[0;32m     44\u001b[0m         \u001b[1;32mif\u001b[0m \u001b[0mscreen\u001b[0m \u001b[1;32mis\u001b[0m \u001b[1;32mNone\u001b[0m\u001b[1;33m:\u001b[0m\u001b[1;33m\u001b[0m\u001b[0m\n",
      "\u001b[1;32m~\\AppData\\Local\\conda\\conda\\envs\\Python\\lib\\site-packages\\airtest\\core\\android\\android.py\u001b[0m in \u001b[0;36msnapshot\u001b[1;34m(self, filename, ensure_orientation)\u001b[0m\n\u001b[0;32m    214\u001b[0m         \u001b[1;32mif\u001b[0m \u001b[0mself\u001b[0m\u001b[1;33m.\u001b[0m\u001b[0mcap_method\u001b[0m \u001b[1;33m==\u001b[0m \u001b[0mCAP_METHOD\u001b[0m\u001b[1;33m.\u001b[0m\u001b[0mMINICAP_STREAM\u001b[0m\u001b[1;33m:\u001b[0m\u001b[1;33m\u001b[0m\u001b[0m\n\u001b[0;32m    215\u001b[0m             \u001b[0mself\u001b[0m\u001b[1;33m.\u001b[0m\u001b[0mrotation_watcher\u001b[0m\u001b[1;33m.\u001b[0m\u001b[0mget_ready\u001b[0m\u001b[1;33m(\u001b[0m\u001b[1;33m)\u001b[0m\u001b[1;33m\u001b[0m\u001b[0m\n\u001b[1;32m--> 216\u001b[1;33m             \u001b[0mscreen\u001b[0m \u001b[1;33m=\u001b[0m \u001b[0mself\u001b[0m\u001b[1;33m.\u001b[0m\u001b[0mminicap\u001b[0m\u001b[1;33m.\u001b[0m\u001b[0mget_frame_from_stream\u001b[0m\u001b[1;33m(\u001b[0m\u001b[1;33m)\u001b[0m\u001b[1;33m\u001b[0m\u001b[0m\n\u001b[0m\u001b[0;32m    217\u001b[0m         \u001b[1;32melif\u001b[0m \u001b[0mself\u001b[0m\u001b[1;33m.\u001b[0m\u001b[0mcap_method\u001b[0m \u001b[1;33m==\u001b[0m \u001b[0mCAP_METHOD\u001b[0m\u001b[1;33m.\u001b[0m\u001b[0mMINICAP\u001b[0m\u001b[1;33m:\u001b[0m\u001b[1;33m\u001b[0m\u001b[0m\n\u001b[0;32m    218\u001b[0m             \u001b[0mscreen\u001b[0m \u001b[1;33m=\u001b[0m \u001b[0mself\u001b[0m\u001b[1;33m.\u001b[0m\u001b[0mminicap\u001b[0m\u001b[1;33m.\u001b[0m\u001b[0mget_frame\u001b[0m\u001b[1;33m(\u001b[0m\u001b[1;33m)\u001b[0m\u001b[1;33m\u001b[0m\u001b[0m\n",
      "\u001b[1;32m~\\AppData\\Local\\conda\\conda\\envs\\Python\\lib\\site-packages\\airtest\\core\\android\\minicap.py\u001b[0m in \u001b[0;36mwrapper\u001b[1;34m(inst, *args, **kwargs)\u001b[0m\n\u001b[0;32m     22\u001b[0m     \u001b[1;32mdef\u001b[0m \u001b[0mwrapper\u001b[0m\u001b[1;33m(\u001b[0m\u001b[0minst\u001b[0m\u001b[1;33m,\u001b[0m \u001b[1;33m*\u001b[0m\u001b[0margs\u001b[0m\u001b[1;33m,\u001b[0m \u001b[1;33m**\u001b[0m\u001b[0mkwargs\u001b[0m\u001b[1;33m)\u001b[0m\u001b[1;33m:\u001b[0m\u001b[1;33m\u001b[0m\u001b[0m\n\u001b[0;32m     23\u001b[0m         \u001b[1;32mtry\u001b[0m\u001b[1;33m:\u001b[0m\u001b[1;33m\u001b[0m\u001b[0m\n\u001b[1;32m---> 24\u001b[1;33m             \u001b[1;32mreturn\u001b[0m \u001b[0mfunc\u001b[0m\u001b[1;33m(\u001b[0m\u001b[0minst\u001b[0m\u001b[1;33m,\u001b[0m \u001b[1;33m*\u001b[0m\u001b[0margs\u001b[0m\u001b[1;33m,\u001b[0m \u001b[1;33m**\u001b[0m\u001b[0mkwargs\u001b[0m\u001b[1;33m)\u001b[0m\u001b[1;33m\u001b[0m\u001b[0m\n\u001b[0m\u001b[0;32m     25\u001b[0m         \u001b[1;32mexcept\u001b[0m \u001b[0msocket\u001b[0m\u001b[1;33m.\u001b[0m\u001b[0merror\u001b[0m\u001b[1;33m:\u001b[0m\u001b[1;33m\u001b[0m\u001b[0m\n\u001b[0;32m     26\u001b[0m             \u001b[0minst\u001b[0m\u001b[1;33m.\u001b[0m\u001b[0mframe_gen\u001b[0m \u001b[1;33m=\u001b[0m \u001b[1;32mNone\u001b[0m\u001b[1;33m\u001b[0m\u001b[0m\n",
      "\u001b[1;32m~\\AppData\\Local\\conda\\conda\\envs\\Python\\lib\\site-packages\\airtest\\core\\android\\minicap.py\u001b[0m in \u001b[0;36mget_frame_from_stream\u001b[1;34m(self)\u001b[0m\n\u001b[0;32m    323\u001b[0m             \u001b[0mself\u001b[0m\u001b[1;33m.\u001b[0m\u001b[0m_update_rotation_event\u001b[0m\u001b[1;33m.\u001b[0m\u001b[0mclear\u001b[0m\u001b[1;33m(\u001b[0m\u001b[1;33m)\u001b[0m\u001b[1;33m\u001b[0m\u001b[0m\n\u001b[0;32m    324\u001b[0m         \u001b[1;32mif\u001b[0m \u001b[0mself\u001b[0m\u001b[1;33m.\u001b[0m\u001b[0mframe_gen\u001b[0m \u001b[1;32mis\u001b[0m \u001b[1;32mNone\u001b[0m\u001b[1;33m:\u001b[0m\u001b[1;33m\u001b[0m\u001b[0m\n\u001b[1;32m--> 325\u001b[1;33m             \u001b[0mself\u001b[0m\u001b[1;33m.\u001b[0m\u001b[0mframe_gen\u001b[0m \u001b[1;33m=\u001b[0m \u001b[0mself\u001b[0m\u001b[1;33m.\u001b[0m\u001b[0mget_stream\u001b[0m\u001b[1;33m(\u001b[0m\u001b[1;33m)\u001b[0m\u001b[1;33m\u001b[0m\u001b[0m\n\u001b[0m\u001b[0;32m    326\u001b[0m         \u001b[1;32mreturn\u001b[0m \u001b[0msix\u001b[0m\u001b[1;33m.\u001b[0m\u001b[0mnext\u001b[0m\u001b[1;33m(\u001b[0m\u001b[0mself\u001b[0m\u001b[1;33m.\u001b[0m\u001b[0mframe_gen\u001b[0m\u001b[1;33m)\u001b[0m\u001b[1;33m\u001b[0m\u001b[0m\n\u001b[0;32m    327\u001b[0m \u001b[1;33m\u001b[0m\u001b[0m\n",
      "\u001b[1;32m~\\AppData\\Local\\conda\\conda\\envs\\Python\\lib\\site-packages\\airtest\\utils\\snippet.py\u001b[0m in \u001b[0;36mready_func\u001b[1;34m(inst, *args, **kwargs)\u001b[0m\n\u001b[0;32m    104\u001b[0m                 \u001b[0mmethod\u001b[0m\u001b[1;33m(\u001b[0m\u001b[1;33m)\u001b[0m\u001b[1;33m\u001b[0m\u001b[0m\n\u001b[0;32m    105\u001b[0m                 \u001b[0msetattr\u001b[0m\u001b[1;33m(\u001b[0m\u001b[0minst\u001b[0m\u001b[1;33m,\u001b[0m \u001b[0mkey\u001b[0m\u001b[1;33m,\u001b[0m \u001b[1;32mTrue\u001b[0m\u001b[1;33m)\u001b[0m\u001b[1;33m\u001b[0m\u001b[0m\n\u001b[1;32m--> 106\u001b[1;33m             \u001b[1;32mreturn\u001b[0m \u001b[0mfunc\u001b[0m\u001b[1;33m(\u001b[0m\u001b[0minst\u001b[0m\u001b[1;33m,\u001b[0m \u001b[1;33m*\u001b[0m\u001b[0margs\u001b[0m\u001b[1;33m,\u001b[0m \u001b[1;33m**\u001b[0m\u001b[0mkwargs\u001b[0m\u001b[1;33m)\u001b[0m\u001b[1;33m\u001b[0m\u001b[0m\n\u001b[0m\u001b[0;32m    107\u001b[0m         \u001b[1;32mreturn\u001b[0m \u001b[0mready_func\u001b[0m\u001b[1;33m\u001b[0m\u001b[0m\n\u001b[0;32m    108\u001b[0m     \u001b[1;32mreturn\u001b[0m \u001b[0mwrapper\u001b[0m\u001b[1;33m\u001b[0m\u001b[0m\n",
      "\u001b[1;32m~\\AppData\\Local\\conda\\conda\\envs\\Python\\lib\\site-packages\\airtest\\core\\android\\minicap.py\u001b[0m in \u001b[0;36mget_stream\u001b[1;34m(self, lazy)\u001b[0m\n\u001b[0;32m    217\u001b[0m \u001b[1;33m\u001b[0m\u001b[0m\n\u001b[0;32m    218\u001b[0m         \u001b[1;31m# if quirk error, restart server and client once\u001b[0m\u001b[1;33m\u001b[0m\u001b[1;33m\u001b[0m\u001b[0m\n\u001b[1;32m--> 219\u001b[1;33m         \u001b[0mstopped\u001b[0m \u001b[1;33m=\u001b[0m \u001b[0mnext\u001b[0m\u001b[1;33m(\u001b[0m\u001b[0mgen\u001b[0m\u001b[1;33m)\u001b[0m\u001b[1;33m\u001b[0m\u001b[0m\n\u001b[0m\u001b[0;32m    220\u001b[0m \u001b[1;33m\u001b[0m\u001b[0m\n\u001b[0;32m    221\u001b[0m         \u001b[1;32mif\u001b[0m \u001b[0mstopped\u001b[0m\u001b[1;33m:\u001b[0m\u001b[1;33m\u001b[0m\u001b[0m\n",
      "\u001b[1;32m~\\AppData\\Local\\conda\\conda\\envs\\Python\\lib\\site-packages\\airtest\\core\\android\\minicap.py\u001b[0m in \u001b[0;36m_get_stream\u001b[1;34m(self, lazy)\u001b[0m\n\u001b[0;32m    231\u001b[0m     \u001b[1;33m@\u001b[0m\u001b[0mon_method_ready\u001b[0m\u001b[1;33m(\u001b[0m\u001b[1;34m'install_or_upgrade'\u001b[0m\u001b[1;33m)\u001b[0m\u001b[1;33m\u001b[0m\u001b[0m\n\u001b[0;32m    232\u001b[0m     \u001b[1;32mdef\u001b[0m \u001b[0m_get_stream\u001b[0m\u001b[1;33m(\u001b[0m\u001b[0mself\u001b[0m\u001b[1;33m,\u001b[0m \u001b[0mlazy\u001b[0m\u001b[1;33m=\u001b[0m\u001b[1;32mTrue\u001b[0m\u001b[1;33m)\u001b[0m\u001b[1;33m:\u001b[0m\u001b[1;33m\u001b[0m\u001b[0m\n\u001b[1;32m--> 233\u001b[1;33m         \u001b[0mproc\u001b[0m\u001b[1;33m,\u001b[0m \u001b[0mnbsp\u001b[0m\u001b[1;33m,\u001b[0m \u001b[0mlocalport\u001b[0m \u001b[1;33m=\u001b[0m \u001b[0mself\u001b[0m\u001b[1;33m.\u001b[0m\u001b[0m_setup_stream_server\u001b[0m\u001b[1;33m(\u001b[0m\u001b[0mlazy\u001b[0m\u001b[1;33m=\u001b[0m\u001b[0mlazy\u001b[0m\u001b[1;33m)\u001b[0m\u001b[1;33m\u001b[0m\u001b[0m\n\u001b[0m\u001b[0;32m    234\u001b[0m         \u001b[0ms\u001b[0m \u001b[1;33m=\u001b[0m \u001b[0mSafeSocket\u001b[0m\u001b[1;33m(\u001b[0m\u001b[1;33m)\u001b[0m\u001b[1;33m\u001b[0m\u001b[0m\n\u001b[0;32m    235\u001b[0m         \u001b[0ms\u001b[0m\u001b[1;33m.\u001b[0m\u001b[0mconnect\u001b[0m\u001b[1;33m(\u001b[0m\u001b[1;33m(\u001b[0m\u001b[0mself\u001b[0m\u001b[1;33m.\u001b[0m\u001b[0madb\u001b[0m\u001b[1;33m.\u001b[0m\u001b[0mhost\u001b[0m\u001b[1;33m,\u001b[0m \u001b[0mlocalport\u001b[0m\u001b[1;33m)\u001b[0m\u001b[1;33m)\u001b[0m\u001b[1;33m\u001b[0m\u001b[0m\n",
      "\u001b[1;32m~\\AppData\\Local\\conda\\conda\\envs\\Python\\lib\\site-packages\\airtest\\core\\android\\minicap.py\u001b[0m in \u001b[0;36m_setup_stream_server\u001b[1;34m(self, lazy)\u001b[0m\n\u001b[0;32m    287\u001b[0m         \u001b[0mdeviceport\u001b[0m \u001b[1;33m=\u001b[0m \u001b[0mdeviceport\u001b[0m\u001b[1;33m[\u001b[0m\u001b[0mlen\u001b[0m\u001b[1;33m(\u001b[0m\u001b[1;34m\"localabstract:\"\u001b[0m\u001b[1;33m)\u001b[0m\u001b[1;33m:\u001b[0m\u001b[1;33m]\u001b[0m\u001b[1;33m\u001b[0m\u001b[0m\n\u001b[0;32m    288\u001b[0m         \u001b[0mother_opt\u001b[0m \u001b[1;33m=\u001b[0m \u001b[1;34m\"-l\"\u001b[0m \u001b[1;32mif\u001b[0m \u001b[0mlazy\u001b[0m \u001b[1;32melse\u001b[0m \u001b[1;34m\"\"\u001b[0m\u001b[1;33m\u001b[0m\u001b[0m\n\u001b[1;32m--> 289\u001b[1;33m         \u001b[0mparams\u001b[0m\u001b[1;33m,\u001b[0m \u001b[0mdisplay_info\u001b[0m \u001b[1;33m=\u001b[0m \u001b[0mself\u001b[0m\u001b[1;33m.\u001b[0m\u001b[0m_get_params\u001b[0m\u001b[1;33m(\u001b[0m\u001b[1;33m)\u001b[0m\u001b[1;33m\u001b[0m\u001b[0m\n\u001b[0m\u001b[0;32m    290\u001b[0m         proc = self.adb.start_shell(\n\u001b[0;32m    291\u001b[0m             \u001b[1;34m\"%s -n '%s' -P %dx%d@%dx%d/%d %s 2>&1\"\u001b[0m \u001b[1;33m%\u001b[0m\u001b[1;33m\u001b[0m\u001b[0m\n",
      "\u001b[1;32m~\\AppData\\Local\\conda\\conda\\envs\\Python\\lib\\site-packages\\airtest\\core\\android\\minicap.py\u001b[0m in \u001b[0;36m_get_params\u001b[1;34m(self, projection)\u001b[0m\n\u001b[0;32m    183\u001b[0m \u001b[1;33m\u001b[0m\u001b[0m\n\u001b[0;32m    184\u001b[0m         \"\"\"\n\u001b[1;32m--> 185\u001b[1;33m         \u001b[0mdisplay_info\u001b[0m \u001b[1;33m=\u001b[0m \u001b[0mself\u001b[0m\u001b[1;33m.\u001b[0m\u001b[0mori_function\u001b[0m\u001b[1;33m(\u001b[0m\u001b[1;33m)\u001b[0m\u001b[1;33m\u001b[0m\u001b[0m\n\u001b[0m\u001b[0;32m    186\u001b[0m         \u001b[0mreal_width\u001b[0m \u001b[1;33m=\u001b[0m \u001b[0mdisplay_info\u001b[0m\u001b[1;33m[\u001b[0m\u001b[1;34m\"width\"\u001b[0m\u001b[1;33m]\u001b[0m\u001b[1;33m\u001b[0m\u001b[0m\n\u001b[0;32m    187\u001b[0m         \u001b[0mreal_height\u001b[0m \u001b[1;33m=\u001b[0m \u001b[0mdisplay_info\u001b[0m\u001b[1;33m[\u001b[0m\u001b[1;34m\"height\"\u001b[0m\u001b[1;33m]\u001b[0m\u001b[1;33m\u001b[0m\u001b[0m\n",
      "\u001b[1;32m~\\AppData\\Local\\conda\\conda\\envs\\Python\\lib\\site-packages\\airtest\\core\\android\\android.py\u001b[0m in \u001b[0;36mget_display_info\u001b[1;34m(self)\u001b[0m\n\u001b[0;32m    541\u001b[0m         \"\"\"\n\u001b[0;32m    542\u001b[0m         \u001b[1;32mif\u001b[0m \u001b[0mself\u001b[0m\u001b[1;33m.\u001b[0m\u001b[0mori_method\u001b[0m \u001b[1;33m==\u001b[0m \u001b[0mORI_METHOD\u001b[0m\u001b[1;33m.\u001b[0m\u001b[0mMINICAP\u001b[0m\u001b[1;33m:\u001b[0m\u001b[1;33m\u001b[0m\u001b[0m\n\u001b[1;32m--> 543\u001b[1;33m             \u001b[0mdisplay_info\u001b[0m \u001b[1;33m=\u001b[0m \u001b[0mself\u001b[0m\u001b[1;33m.\u001b[0m\u001b[0mminicap\u001b[0m\u001b[1;33m.\u001b[0m\u001b[0mget_display_info\u001b[0m\u001b[1;33m(\u001b[0m\u001b[1;33m)\u001b[0m\u001b[1;33m\u001b[0m\u001b[0m\n\u001b[0m\u001b[0;32m    544\u001b[0m         \u001b[1;32melse\u001b[0m\u001b[1;33m:\u001b[0m\u001b[1;33m\u001b[0m\u001b[0m\n\u001b[0;32m    545\u001b[0m             \u001b[0mdisplay_info\u001b[0m \u001b[1;33m=\u001b[0m \u001b[0mself\u001b[0m\u001b[1;33m.\u001b[0m\u001b[0madb\u001b[0m\u001b[1;33m.\u001b[0m\u001b[0mget_display_info\u001b[0m\u001b[1;33m(\u001b[0m\u001b[1;33m)\u001b[0m\u001b[1;33m\u001b[0m\u001b[0m\n",
      "\u001b[1;32m~\\AppData\\Local\\conda\\conda\\envs\\Python\\lib\\site-packages\\airtest\\utils\\snippet.py\u001b[0m in \u001b[0;36mready_func\u001b[1;34m(inst, *args, **kwargs)\u001b[0m\n\u001b[0;32m    104\u001b[0m                 \u001b[0mmethod\u001b[0m\u001b[1;33m(\u001b[0m\u001b[1;33m)\u001b[0m\u001b[1;33m\u001b[0m\u001b[0m\n\u001b[0;32m    105\u001b[0m                 \u001b[0msetattr\u001b[0m\u001b[1;33m(\u001b[0m\u001b[0minst\u001b[0m\u001b[1;33m,\u001b[0m \u001b[0mkey\u001b[0m\u001b[1;33m,\u001b[0m \u001b[1;32mTrue\u001b[0m\u001b[1;33m)\u001b[0m\u001b[1;33m\u001b[0m\u001b[0m\n\u001b[1;32m--> 106\u001b[1;33m             \u001b[1;32mreturn\u001b[0m \u001b[0mfunc\u001b[0m\u001b[1;33m(\u001b[0m\u001b[0minst\u001b[0m\u001b[1;33m,\u001b[0m \u001b[1;33m*\u001b[0m\u001b[0margs\u001b[0m\u001b[1;33m,\u001b[0m \u001b[1;33m**\u001b[0m\u001b[0mkwargs\u001b[0m\u001b[1;33m)\u001b[0m\u001b[1;33m\u001b[0m\u001b[0m\n\u001b[0m\u001b[0;32m    107\u001b[0m         \u001b[1;32mreturn\u001b[0m \u001b[0mready_func\u001b[0m\u001b[1;33m\u001b[0m\u001b[0m\n\u001b[0;32m    108\u001b[0m     \u001b[1;32mreturn\u001b[0m \u001b[0mwrapper\u001b[0m\u001b[1;33m\u001b[0m\u001b[0m\n",
      "\u001b[1;32m~\\AppData\\Local\\conda\\conda\\envs\\Python\\lib\\site-packages\\airtest\\core\\android\\minicap.py\u001b[0m in \u001b[0;36mget_display_info\u001b[1;34m(self)\u001b[0m\n\u001b[0;32m    147\u001b[0m         \"\"\"\n\u001b[0;32m    148\u001b[0m         \u001b[0mdisplay_info\u001b[0m \u001b[1;33m=\u001b[0m \u001b[0mself\u001b[0m\u001b[1;33m.\u001b[0m\u001b[0madb\u001b[0m\u001b[1;33m.\u001b[0m\u001b[0mshell\u001b[0m\u001b[1;33m(\u001b[0m\u001b[1;34m\"%s -i\"\u001b[0m \u001b[1;33m%\u001b[0m \u001b[0mself\u001b[0m\u001b[1;33m.\u001b[0m\u001b[0mCMD\u001b[0m\u001b[1;33m)\u001b[0m\u001b[1;33m\u001b[0m\u001b[0m\n\u001b[1;32m--> 149\u001b[1;33m         \u001b[0mdisplay_info\u001b[0m \u001b[1;33m=\u001b[0m \u001b[0mjson\u001b[0m\u001b[1;33m.\u001b[0m\u001b[0mloads\u001b[0m\u001b[1;33m(\u001b[0m\u001b[0mdisplay_info\u001b[0m\u001b[1;33m)\u001b[0m\u001b[1;33m\u001b[0m\u001b[0m\n\u001b[0m\u001b[0;32m    150\u001b[0m         \u001b[0mdisplay_info\u001b[0m\u001b[1;33m[\u001b[0m\u001b[1;34m\"orientation\"\u001b[0m\u001b[1;33m]\u001b[0m \u001b[1;33m=\u001b[0m \u001b[0mdisplay_info\u001b[0m\u001b[1;33m[\u001b[0m\u001b[1;34m\"rotation\"\u001b[0m\u001b[1;33m]\u001b[0m \u001b[1;33m/\u001b[0m \u001b[1;36m90\u001b[0m\u001b[1;33m\u001b[0m\u001b[0m\n\u001b[0;32m    151\u001b[0m         \u001b[1;32mreturn\u001b[0m \u001b[0mdisplay_info\u001b[0m\u001b[1;33m\u001b[0m\u001b[0m\n",
      "\u001b[1;32m~\\AppData\\Local\\conda\\conda\\envs\\Python\\lib\\json\\__init__.py\u001b[0m in \u001b[0;36mloads\u001b[1;34m(s, encoding, cls, object_hook, parse_float, parse_int, parse_constant, object_pairs_hook, **kw)\u001b[0m\n\u001b[0;32m    317\u001b[0m             \u001b[0mparse_int\u001b[0m \u001b[1;32mis\u001b[0m \u001b[1;32mNone\u001b[0m \u001b[1;32mand\u001b[0m \u001b[0mparse_float\u001b[0m \u001b[1;32mis\u001b[0m \u001b[1;32mNone\u001b[0m \u001b[1;32mand\u001b[0m\u001b[1;33m\u001b[0m\u001b[0m\n\u001b[0;32m    318\u001b[0m             parse_constant is None and object_pairs_hook is None and not kw):\n\u001b[1;32m--> 319\u001b[1;33m         \u001b[1;32mreturn\u001b[0m \u001b[0m_default_decoder\u001b[0m\u001b[1;33m.\u001b[0m\u001b[0mdecode\u001b[0m\u001b[1;33m(\u001b[0m\u001b[0ms\u001b[0m\u001b[1;33m)\u001b[0m\u001b[1;33m\u001b[0m\u001b[0m\n\u001b[0m\u001b[0;32m    320\u001b[0m     \u001b[1;32mif\u001b[0m \u001b[0mcls\u001b[0m \u001b[1;32mis\u001b[0m \u001b[1;32mNone\u001b[0m\u001b[1;33m:\u001b[0m\u001b[1;33m\u001b[0m\u001b[0m\n\u001b[0;32m    321\u001b[0m         \u001b[0mcls\u001b[0m \u001b[1;33m=\u001b[0m \u001b[0mJSONDecoder\u001b[0m\u001b[1;33m\u001b[0m\u001b[0m\n",
      "\u001b[1;32m~\\AppData\\Local\\conda\\conda\\envs\\Python\\lib\\json\\decoder.py\u001b[0m in \u001b[0;36mdecode\u001b[1;34m(self, s, _w)\u001b[0m\n\u001b[0;32m    337\u001b[0m \u001b[1;33m\u001b[0m\u001b[0m\n\u001b[0;32m    338\u001b[0m         \"\"\"\n\u001b[1;32m--> 339\u001b[1;33m         \u001b[0mobj\u001b[0m\u001b[1;33m,\u001b[0m \u001b[0mend\u001b[0m \u001b[1;33m=\u001b[0m \u001b[0mself\u001b[0m\u001b[1;33m.\u001b[0m\u001b[0mraw_decode\u001b[0m\u001b[1;33m(\u001b[0m\u001b[0ms\u001b[0m\u001b[1;33m,\u001b[0m \u001b[0midx\u001b[0m\u001b[1;33m=\u001b[0m\u001b[0m_w\u001b[0m\u001b[1;33m(\u001b[0m\u001b[0ms\u001b[0m\u001b[1;33m,\u001b[0m \u001b[1;36m0\u001b[0m\u001b[1;33m)\u001b[0m\u001b[1;33m.\u001b[0m\u001b[0mend\u001b[0m\u001b[1;33m(\u001b[0m\u001b[1;33m)\u001b[0m\u001b[1;33m)\u001b[0m\u001b[1;33m\u001b[0m\u001b[0m\n\u001b[0m\u001b[0;32m    340\u001b[0m         \u001b[0mend\u001b[0m \u001b[1;33m=\u001b[0m \u001b[0m_w\u001b[0m\u001b[1;33m(\u001b[0m\u001b[0ms\u001b[0m\u001b[1;33m,\u001b[0m \u001b[0mend\u001b[0m\u001b[1;33m)\u001b[0m\u001b[1;33m.\u001b[0m\u001b[0mend\u001b[0m\u001b[1;33m(\u001b[0m\u001b[1;33m)\u001b[0m\u001b[1;33m\u001b[0m\u001b[0m\n\u001b[0;32m    341\u001b[0m         \u001b[1;32mif\u001b[0m \u001b[0mend\u001b[0m \u001b[1;33m!=\u001b[0m \u001b[0mlen\u001b[0m\u001b[1;33m(\u001b[0m\u001b[0ms\u001b[0m\u001b[1;33m)\u001b[0m\u001b[1;33m:\u001b[0m\u001b[1;33m\u001b[0m\u001b[0m\n",
      "\u001b[1;32m~\\AppData\\Local\\conda\\conda\\envs\\Python\\lib\\json\\decoder.py\u001b[0m in \u001b[0;36mraw_decode\u001b[1;34m(self, s, idx)\u001b[0m\n\u001b[0;32m    355\u001b[0m             \u001b[0mobj\u001b[0m\u001b[1;33m,\u001b[0m \u001b[0mend\u001b[0m \u001b[1;33m=\u001b[0m \u001b[0mself\u001b[0m\u001b[1;33m.\u001b[0m\u001b[0mscan_once\u001b[0m\u001b[1;33m(\u001b[0m\u001b[0ms\u001b[0m\u001b[1;33m,\u001b[0m \u001b[0midx\u001b[0m\u001b[1;33m)\u001b[0m\u001b[1;33m\u001b[0m\u001b[0m\n\u001b[0;32m    356\u001b[0m         \u001b[1;32mexcept\u001b[0m \u001b[0mStopIteration\u001b[0m \u001b[1;32mas\u001b[0m \u001b[0merr\u001b[0m\u001b[1;33m:\u001b[0m\u001b[1;33m\u001b[0m\u001b[0m\n\u001b[1;32m--> 357\u001b[1;33m             \u001b[1;32mraise\u001b[0m \u001b[0mJSONDecodeError\u001b[0m\u001b[1;33m(\u001b[0m\u001b[1;34m\"Expecting value\"\u001b[0m\u001b[1;33m,\u001b[0m \u001b[0ms\u001b[0m\u001b[1;33m,\u001b[0m \u001b[0merr\u001b[0m\u001b[1;33m.\u001b[0m\u001b[0mvalue\u001b[0m\u001b[1;33m)\u001b[0m \u001b[1;32mfrom\u001b[0m \u001b[1;32mNone\u001b[0m\u001b[1;33m\u001b[0m\u001b[0m\n\u001b[0m\u001b[0;32m    358\u001b[0m         \u001b[1;32mreturn\u001b[0m \u001b[0mobj\u001b[0m\u001b[1;33m,\u001b[0m \u001b[0mend\u001b[0m\u001b[1;33m\u001b[0m\u001b[0m\n",
      "\u001b[1;31mJSONDecodeError\u001b[0m: Expecting value: line 1 column 1 (char 0)"
     ]
    },
    {
     "name": "stdout",
     "output_type": "stream",
     "text": [
      "[pocoservice.apk] stdout: b'\\r\\ncom.netease.open.pocoservice.InstrumentedTestAsLauncher:'\n",
      "[pocoservice.apk] stderr: b''\n"
     ]
    },
    {
     "name": "stderr",
     "output_type": "stream",
     "text": [
      "[03:11:58][DEBUG]<airtest.core.android.adb> C:\\Users\\zhangweiwei\\AppData\\Local\\conda\\conda\\envs\\Python\\lib\\site-packages\\airtest\\core\\android\\static\\adb\\windows\\adb.exe -s edaa9d53 shell am force-stop com.netease.open.pocoservice\n",
      "Exception in thread Thread-41:\n",
      "Traceback (most recent call last):\n",
      "  File \"C:\\Users\\zhangweiwei\\AppData\\Local\\conda\\conda\\envs\\Python\\lib\\threading.py\", line 914, in _bootstrap_inner\n",
      "    self.run()\n",
      "  File \"C:\\Users\\zhangweiwei\\AppData\\Local\\conda\\conda\\envs\\Python\\lib\\site-packages\\poco\\drivers\\android\\uiautomation.py\", line 124, in run\n",
      "    self.poco._start_instrument(self.port_to_ping)  # 尝试重启\n",
      "  File \"C:\\Users\\zhangweiwei\\AppData\\Local\\conda\\conda\\envs\\Python\\lib\\site-packages\\poco\\drivers\\android\\uiautomation.py\", line 247, in _start_instrument\n",
      "    self.adb_client.shell(['am', 'force-stop', PocoServicePackage])\n",
      "  File \"C:\\Users\\zhangweiwei\\AppData\\Local\\conda\\conda\\envs\\Python\\lib\\site-packages\\airtest\\core\\android\\adb.py\", line 368, in shell\n",
      "    out = self.raw_shell(cmd)\n",
      "  File \"C:\\Users\\zhangweiwei\\AppData\\Local\\conda\\conda\\envs\\Python\\lib\\site-packages\\airtest\\core\\android\\adb.py\", line 326, in raw_shell\n",
      "    out = self.cmd(cmds, ensure_unicode=False)\n",
      "  File \"C:\\Users\\zhangweiwei\\AppData\\Local\\conda\\conda\\envs\\Python\\lib\\site-packages\\airtest\\core\\android\\adb.py\", line 185, in cmd\n",
      "    raise DeviceConnectionError(stderr)\n",
      "airtest.core.error.DeviceConnectionError: b\"error: device 'edaa9d53' not found\\r\\n\"\n",
      "\n",
      "[03:15:38][DEBUG]<airtest.core.android.adb> C:\\Users\\zhangweiwei\\AppData\\Local\\conda\\conda\\envs\\Python\\lib\\site-packages\\airtest\\core\\android\\static\\adb\\windows\\adb.exe -s 127.0.0.1:7555 shell am force-stop com.netease.open.pocoservice ; echo ---$?---\n",
      "[03:15:38][DEBUG]<airtest.core.android.rotation> orientationWatcher has ended\n"
     ]
    },
    {
     "name": "stdout",
     "output_type": "stream",
     "text": [
      "[pocoservice.apk] stdout: b'\\r\\r\\ncom.netease.open.pocoservice.InstrumentedTestAsLauncher:'\n",
      "[pocoservice.apk] stderr: b''\n"
     ]
    },
    {
     "name": "stderr",
     "output_type": "stream",
     "text": [
      "[03:15:39][DEBUG]<airtest.core.android.adb> C:\\Users\\zhangweiwei\\AppData\\Local\\conda\\conda\\envs\\Python\\lib\\site-packages\\airtest\\core\\android\\static\\adb\\windows\\adb.exe -s 127.0.0.1:7555 shell am force-stop com.netease.open.pocoservice ; echo ---$?---\n",
      "Exception in thread Thread-120:\n",
      "Traceback (most recent call last):\n",
      "  File \"C:\\Users\\zhangweiwei\\AppData\\Local\\conda\\conda\\envs\\Python\\lib\\threading.py\", line 914, in _bootstrap_inner\n",
      "    self.run()\n",
      "  File \"C:\\Users\\zhangweiwei\\AppData\\Local\\conda\\conda\\envs\\Python\\lib\\site-packages\\poco\\drivers\\android\\uiautomation.py\", line 124, in run\n",
      "    self.poco._start_instrument(self.port_to_ping)  # 尝试重启\n",
      "  File \"C:\\Users\\zhangweiwei\\AppData\\Local\\conda\\conda\\envs\\Python\\lib\\site-packages\\poco\\drivers\\android\\uiautomation.py\", line 247, in _start_instrument\n",
      "    self.adb_client.shell(['am', 'force-stop', PocoServicePackage])\n",
      "  File \"C:\\Users\\zhangweiwei\\AppData\\Local\\conda\\conda\\envs\\Python\\lib\\site-packages\\airtest\\core\\android\\adb.py\", line 354, in shell\n",
      "    out = self.raw_shell(cmd).rstrip()\n",
      "  File \"C:\\Users\\zhangweiwei\\AppData\\Local\\conda\\conda\\envs\\Python\\lib\\site-packages\\airtest\\core\\android\\adb.py\", line 326, in raw_shell\n",
      "    out = self.cmd(cmds, ensure_unicode=False)\n",
      "  File \"C:\\Users\\zhangweiwei\\AppData\\Local\\conda\\conda\\envs\\Python\\lib\\site-packages\\airtest\\core\\android\\adb.py\", line 185, in cmd\n",
      "    raise DeviceConnectionError(stderr)\n",
      "airtest.core.error.DeviceConnectionError: b\"error: device '127.0.0.1:7555' not found\\r\\n\"\n",
      "Exception in thread Thread-165:\n",
      "Traceback (most recent call last):\n",
      "  File \"C:\\Users\\zhangweiwei\\AppData\\Local\\conda\\conda\\envs\\Python\\lib\\threading.py\", line 914, in _bootstrap_inner\n",
      "    self.run()\n",
      "  File \"C:\\Users\\zhangweiwei\\AppData\\Local\\conda\\conda\\envs\\Python\\lib\\site-packages\\poco\\drivers\\android\\uiautomation.py\", line 124, in run\n",
      "    self.poco._start_instrument(self.port_to_ping)  # 尝试重启\n",
      "  File \"C:\\Users\\zhangweiwei\\AppData\\Local\\conda\\conda\\envs\\Python\\lib\\site-packages\\poco\\drivers\\android\\uiautomation.py\", line 247, in _start_instrument\n",
      "    self.adb_client.shell(['am', 'force-stop', PocoServicePackage])\n",
      "  File \"C:\\Users\\zhangweiwei\\AppData\\Local\\conda\\conda\\envs\\Python\\lib\\site-packages\\airtest\\core\\android\\adb.py\", line 354, in shell\n",
      "    out = self.raw_shell(cmd).rstrip()\n",
      "  File \"C:\\Users\\zhangweiwei\\AppData\\Local\\conda\\conda\\envs\\Python\\lib\\site-packages\\airtest\\core\\android\\adb.py\", line 326, in raw_shell\n",
      "    out = self.cmd(cmds, ensure_unicode=False)\n",
      "  File \"C:\\Users\\zhangweiwei\\AppData\\Local\\conda\\conda\\envs\\Python\\lib\\site-packages\\airtest\\core\\android\\adb.py\", line 185, in cmd\n",
      "    raise DeviceConnectionError(stderr)\n",
      "airtest.core.error.DeviceConnectionError: b\"error: device '127.0.0.1:7555' not found\\r\\n\"\n",
      "\n",
      "\n"
     ]
    }
   ],
   "source": [
    "import random\n",
    "from airtest.core.api import *\n",
    "from poco.drivers.android.uiautomation import AndroidUiautomationPoco\n",
    "\n",
    "poco = AndroidUiautomationPoco()\n",
    "poco.device.wake()\n",
    "init_device(\"Android\") \n",
    "connect_device(\"android:127.0.0.1:7555\") # 选中设备\n",
    "\n",
    "\n",
    "# 生成手机号\n",
    "def create_phone():\n",
    "    # 第二位数字\n",
    "    second = [3, 4, 5, 7, 8][random.randint(0, 4)]\n",
    "    # 第三位数字\n",
    "    third = {\n",
    "        3: random.randint(0, 9),\n",
    "        4: [5, 7, 9][random.randint(0, 2)],\n",
    "        5: [i for i in range(10) if i != 4][random.randint(0, 8)],\n",
    "        7: [i for i in range(10) if i not in [4, 9]][random.randint(0, 7)],\n",
    "        8: random.randint(0, 9),\n",
    "    }[second]\n",
    "    # 最后八位数字\n",
    "    suffix = random.randint(9999999,100000000)\n",
    "    # 拼接手机号\n",
    "    return \"1{}{}{}\".format(second, third, suffix)\n",
    "phone = create_phone()\n",
    "\n",
    "\n",
    "url = \"http://wx.xiaoxiang56.com\"\n",
    "\n",
    "# 登录企业货主\n",
    "\n",
    "touch(Template(r\"tpl1554188959559.png\", record_pos=(0.335, -0.132), resolution=(1080, 1920)))\n",
    "\n",
    "\n",
    "\n",
    "\n"
   ]
  },
  {
   "cell_type": "code",
   "execution_count": 7,
   "metadata": {},
   "outputs": [
    {
     "data": {
      "text/plain": [
       "'17030612127'"
      ]
     },
     "execution_count": 7,
     "metadata": {},
     "output_type": "execute_result"
    }
   ],
   "source": [
    "phone"
   ]
  }
 ],
 "metadata": {
  "kernelspec": {
   "display_name": "Python 3",
   "language": "python",
   "name": "python3"
  },
  "language_info": {
   "codemirror_mode": {
    "name": "ipython",
    "version": 3
   },
   "file_extension": ".py",
   "mimetype": "text/x-python",
   "name": "python",
   "nbconvert_exporter": "python",
   "pygments_lexer": "ipython3",
   "version": "3.5.6"
  }
 },
 "nbformat": 4,
 "nbformat_minor": 2
}
