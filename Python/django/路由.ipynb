{
 "cells": [
  {
   "cell_type": "markdown",
   "metadata": {},
   "source": [
    "# 路由系统\n",
    "- 按照具体的请求url，导入到相应的业务处理模块的一个功能模块\n",
    "    - django的信息控制中枢\n",
    "    - 本质上是接受的URL和相应的处理模块的一个映射\n",
    "    - 在接受URL请求的匹配上使用RE\n",
    "    \n",
    "    需要关注的两点\n",
    "        - 接受的URL是什么，及如何用RE对传入URL进行匹配\n",
    "        - 已知URL匹配到哪个处理模块"
   ]
  },
  {
   "cell_type": "markdown",
   "metadata": {},
   "source": [
    "## 1. Url匹配规则\n",
    "- 从上往下一个一个对比\n",
    "    - url格式是分级格式，则按照级别一级一级往下对比，主要对应url包含子url的情况\n",
    "    - 子url一旦被调用，则不会返回到主url\n",
    "        - `/one/two/three/`\n",
    "    - 正则以r开头，表示不需要转义，注意尖号“^”和美元符号\"$\"\n",
    "        - `/one/two/three' 匹配 r'^one/`\n",
    "        - `/oo/one/two/three' 不配对 r'^one/`\n",
    "        - `/one/two/three/' 配对 r'three/$`\n",
    "        - `/oo/one/two/three/oo/' 不配对 r'three/$`\n",
    "        - 开头不需要有反斜杠\n",
    "    - 如果从上往下都没有找到合适的匹配内容，则报错"
   ]
  },
  {
   "cell_type": "markdown",
   "metadata": {},
   "source": [
    "## 2. 基本映射\n",
    "- 把某一个符合RE的URL映射带事物处理函数中去"
   ]
  },
  {
   "cell_type": "markdown",
   "metadata": {},
   "source": [
    "## 3. URL中带参数\n",
    "    - 从事件处理代码中需要由URL传入参数，形如 /myurl/param中的param\n",
    "    - 参数通常是字符串形式了，如果需要整数等形式需要自行转换 \n",
    "    - 通常形式如下：\n",
    "        - /search/page/432 中的432需要经常性变化，所以写成参数\n",
    "        - ?P "
   ]
  },
  {
   "cell_type": "markdown",
   "metadata": {},
   "source": [
    "## 4. URL在app中处理\n",
    "- 如果所以应用URL都集中在项目urls.py中，可能导致文件的臃肿\n",
    "- 可以把urls具体功能逐渐分散到每个app中\n",
    "    - 从 django.conf.urls 导入 include \n",
    "        - `from django.conf.urls import include`\n",
    "        - 注意此时RE部分的写法\n",
    "        - 添加include导入\n",
    "    - 使用方法\n",
    "        - 确保include被导入\n",
    "        - 写主路由的开头url\n",
    "        - 写子路由\n",
    "        - 编写views函数\n",
    "    - 同样可以使用参数"
   ]
  },
  {
   "cell_type": "markdown",
   "metadata": {},
   "source": [
    "## 5. URL中的嵌套参数\n",
    "- 捕获某个参数的一部分\n",
    "    - 例如URL /index/page-3，需要捕获数字3作为参数\n",
    "        - `url(r'index_1(page-(\\d+)/)?$', sv.myindex_1), # 不友好`\n",
    "        - `url(r'idnex_2(?:page-(?P<page_number>\\d+)/)', sv.myindex_2), #友好`\n",
    "        - 上述列子会得到两个参数，但?:表示忽略此参数"
   ]
  },
  {
   "cell_type": "markdown",
   "metadata": {},
   "source": [
    "## 6. 传递额外参数\n",
    "- 参数不仅仅来自URL，还可能是我们自己定义的内容\n",
    "    - 附加参数同样适用于include语句，此时对include内所有的都添加\n",
    "```\n",
    "    (r'extrem/$, sv.extremParam', {'name': \"zhangweiwei\"}),\n",
    "```"
   ]
  },
  {
   "cell_type": "markdown",
   "metadata": {},
   "source": [
    "## 7. URL的反向解析\n",
    "- 防止硬编码\n",
    "    - 本质是对每个URL进行命名\n",
    "        - 以后在编码代码中使用URL的值，原则上都应该使用反向解析\n",
    "    - url 里面设置name属性\n",
    "```\n",
    "url(r'', , name=\"\")\n",
    "```"
   ]
  },
  {
   "cell_type": "code",
   "execution_count": null,
   "metadata": {},
   "outputs": [],
   "source": []
  }
 ],
 "metadata": {
  "kernelspec": {
   "display_name": "Python 3",
   "language": "python",
   "name": "python3"
  },
  "language_info": {
   "codemirror_mode": {
    "name": "ipython",
    "version": 3
   },
   "file_extension": ".py",
   "mimetype": "text/x-python",
   "name": "python",
   "nbconvert_exporter": "python",
   "pygments_lexer": "ipython3",
   "version": "3.5.6"
  }
 },
 "nbformat": 4,
 "nbformat_minor": 2
}
