{
 "cells": [
  {
   "cell_type": "markdown",
   "metadata": {},
   "source": [
    "# Jupyter快捷键\n",
    "- esc + A 添加一栏"
   ]
  },
  {
   "cell_type": "markdown",
   "metadata": {},
   "source": [
    "# 声明的3种格式"
   ]
  },
  {
   "cell_type": "code",
   "execution_count": 9,
   "metadata": {},
   "outputs": [],
   "source": [
    "s1 = \"格式一\"\n",
    "s2 = s1 = \"格式二\"\n",
    "s3 , s2 , s1 = \"格式三\",2,1"
   ]
  },
  {
   "cell_type": "markdown",
   "metadata": {},
   "source": [
    "# 变量类型\n",
    "- 严格意义上讲，Python只有一种类型。\n",
    "- 标准数据类型6种\n",
    "    - 数字Number\n",
    "        - 布尔值\n",
    "        - 复数\n",
    "        - 整型\n",
    "        - 浮点数\n",
    "    - 字符串Str\n",
    "    - 列表List\n",
    "    - 元组Tuple\n",
    "    - 字典Dict\n",
    "    - 集合Set\n",
    "    \n",
    "## 数字类型\n",
    "- Python里面的数字没有大小限制\n",
    "\n",
    "### 整数\n",
    "- 没有小数部分\n",
    "- 包含正数、负数、0\n",
    "- 2进制\n",
    "    - 0b开头\n",
    "    - 0，1组成\n",
    "- 8进制\n",
    "    - 0o开头\n",
    "    - 0-7之间的数字串\n",
    "- 16进制\n",
    "    - 0x开头\n",
    "    - 0-9，a-f组成\n",
    "\n",
    "### 浮点数\n",
    "- 小数，带小数点的\n",
    "    - 3.14\n",
    "    - 3.\n",
    "    - 0.4\n",
    "    - .4\n",
    "- 科学计数法\n",
    "    - 定义跟数学定义一样\n",
    "    - 写法就是e后面跟着整数用来表示10的指数\n",
    "    - 1.84e2"
   ]
  },
  {
   "cell_type": "markdown",
   "metadata": {},
   "source": [
    "### 复数类型\n",
    "- 定义同数学定义一致\n",
    "- 一个由实部和虚部构成的数字\n",
    "- 虚部用 **j/J** 表示"
   ]
  },
  {
   "cell_type": "code",
   "execution_count": 10,
   "metadata": {},
   "outputs": [
    {
     "data": {
      "text/plain": [
       "3j"
      ]
     },
     "execution_count": 10,
     "metadata": {},
     "output_type": "execute_result"
    }
   ],
   "source": [
    "5+3j\n",
    "3j\n",
    "(3j)"
   ]
  },
  {
   "cell_type": "markdown",
   "metadata": {},
   "source": [
    "### 布尔值\n",
    "- 布尔值就是用来表示真假的值\n",
    "- 只有两个值：\n",
    "    - True\n",
    "    - False\n",
    "- 在Python中，布尔值可以当数字使用\n",
    "    - 布尔值如果当数字使用，True=1，False=0\n",
    "    - 如果数字用来当作布尔值使用，0=False,其余当作True"
   ]
  },
  {
   "cell_type": "markdown",
   "metadata": {},
   "source": [
    "# 字符串\n",
    "- 表达文字信息的内容。\n",
    "- 形式上是引号引起来的一段内容\n",
    "- 引号包括\n",
    "    - 单引号\n",
    "    - 双引号\n",
    "    - 三引号\n",
    "- 单双引号含义一致。"
   ]
  },
  {
   "cell_type": "code",
   "execution_count": 6,
   "metadata": {},
   "outputs": [
    {
     "data": {
      "text/plain": [
       "'三引号'"
      ]
     },
     "execution_count": 6,
     "metadata": {},
     "output_type": "execute_result"
    }
   ],
   "source": [
    "'单引号'\n",
    "\"双引号\"\n",
    "'''三引号'''"
   ]
  },
  {
   "cell_type": "markdown",
   "metadata": {},
   "source": [
    "# None类型\n",
    "- 表示没有，通常用来占位\n",
    "- 比如返回，用来表示返回一个空。"
   ]
  },
  {
   "cell_type": "markdown",
   "metadata": {},
   "source": [
    "# 表达式\n",
    "- 由一个或者几个数字、变量、运算符合成的一行代码\n",
    "- 通常返回一个结果"
   ]
  },
  {
   "cell_type": "markdown",
   "metadata": {},
   "source": [
    "# 运算符\n",
    "- 由一个以上的值经过一系列的运算得到新值的过程就叫运算\n",
    "- 用来操作运算的符号叫运算符\n",
    "    - 算数运算符\n",
    "    - 比较或者关系运算符\n",
    "    - 赋值运算符\n",
    "    - 逻辑运算符\n",
    "    - 位运算\n",
    "    - 成员运算符\n",
    "    - 身份运算符"
   ]
  },
  {
   "cell_type": "markdown",
   "metadata": {},
   "source": [
    "## 算数运算符\n",
    "- 用来进行算数运算的符号\n",
    "- 通常用来表示加减乘除\n",
    "- python没有自减自增运算\n",
    "    - 正常除法 /\n",
    "    - 地板除 //\n",
    "    - 取余 %\n",
    "    - 指数 7**2"
   ]
  },
  {
   "cell_type": "code",
   "execution_count": 11,
   "metadata": {},
   "outputs": [
    {
     "data": {
      "text/plain": [
       "-3"
      ]
     },
     "execution_count": 11,
     "metadata": {},
     "output_type": "execute_result"
    }
   ],
   "source": [
    "9 % -4  #（9+x）/ (-4) = y 余0"
   ]
  },
  {
   "cell_type": "markdown",
   "metadata": {},
   "source": [
    "## 比较运算符\n",
    "- 对两个内容进行比较的运算符\n",
    "- 结果一定是布尔值，即True/False"
   ]
  },
  {
   "cell_type": "code",
   "execution_count": 3,
   "metadata": {},
   "outputs": [
    {
     "data": {
      "text/plain": [
       "False"
      ]
     },
     "execution_count": 3,
     "metadata": {},
     "output_type": "execute_result"
    }
   ],
   "source": [
    "a = 3 == 4\n",
    "a"
   ]
  },
  {
   "cell_type": "markdown",
   "metadata": {},
   "source": [
    "# 赋值运算符\n",
    "- 把一个值放到变量里去\n",
    "- `a = b = 9`\n",
    "- `a,b = 1,2`\n",
    "- `a = a + 3`"
   ]
  },
  {
   "cell_type": "code",
   "execution_count": 5,
   "metadata": {},
   "outputs": [
    {
     "data": {
      "text/plain": [
       "4"
      ]
     },
     "execution_count": 5,
     "metadata": {},
     "output_type": "execute_result"
    }
   ],
   "source": [
    "c = 1\n",
    "c += 3\n",
    "c"
   ]
  },
  {
   "cell_type": "markdown",
   "metadata": {},
   "source": [
    "# 逻辑运算符\n",
    "- 对布尔类型变量或者值进行运算的符号\n",
    "- and 逻辑与 \n",
    "- or 逻辑或\n",
    "- not 逻辑非\n",
    "- python里面没有逻辑异或\n",
    "- 运算规则：\n",
    "    - and 看做乘法，or看做加法\n",
    "    - True看做1，False看做0\n",
    "    - 逻辑运算符就能转换成整数数学运算\n",
    "    - 最后结构如果是0则为Fasle，否则为True\n",
    "- 布尔值跟数字转换\n",
    "    - 数字转换成布尔值的时候， 0 = false，其余是True\n",
    "    - 布尔值转换成数字的时候， true = 1，false = 0\n",
    "- 短路问题\n",
    "    - 逻辑运算时计算机会取最短结果。"
   ]
  },
  {
   "cell_type": "code",
   "execution_count": 4,
   "metadata": {},
   "outputs": [
    {
     "name": "stdout",
     "output_type": "stream",
     "text": [
      "False\n"
     ]
    }
   ],
   "source": [
    "# 举例\n",
    "a = True\n",
    "b = True\n",
    "c = False\n",
    "\n",
    "aa =  a and c\n",
    "print(aa)"
   ]
  },
  {
   "cell_type": "markdown",
   "metadata": {},
   "source": [
    "# 成员运算符\n",
    "- in 用来检测一个值或者某个变量是否在某个集合里面\n",
    "- not in "
   ]
  },
  {
   "cell_type": "code",
   "execution_count": 2,
   "metadata": {},
   "outputs": [
    {
     "data": {
      "text/plain": [
       "True"
      ]
     },
     "execution_count": 2,
     "metadata": {},
     "output_type": "execute_result"
    }
   ],
   "source": [
    "l = [1,2,3,4,5,6]\n",
    "a = 6\n",
    "aa = a in l\n",
    "aa"
   ]
  },
  {
   "cell_type": "markdown",
   "metadata": {},
   "source": [
    "# 身份运算符\n",
    "- 用来确定两个变量是否是同一个变量\n",
    "- is 变量运算符\n",
    "- is not"
   ]
  },
  {
   "cell_type": "code",
   "execution_count": 4,
   "metadata": {},
   "outputs": [
    {
     "data": {
      "text/plain": [
       "True"
      ]
     },
     "execution_count": 4,
     "metadata": {},
     "output_type": "execute_result"
    }
   ],
   "source": [
    "a = 100\n",
    "b = 10000\n",
    "a is not b"
   ]
  },
  {
   "cell_type": "markdown",
   "metadata": {},
   "source": [
    "# 分支"
   ]
  },
  {
   "cell_type": "markdown",
   "metadata": {},
   "source": [
    "# 循环"
   ]
  },
  {
   "cell_type": "markdown",
   "metadata": {},
   "source": [
    "# 函数\n",
    "- 函数是代码一种组织形式。\n",
    "- 函数应该能完成一项特定的工作，而且一般一个函数值完成一项工作。\n",
    "- 函数的使用：\n",
    "    - 函数使用前需要先定义。\n",
    "    - 使用函数，俗称调用。\n",
    "    \n",
    "#### 定义一个函数\n",
    "```\n",
    "    def 函数名():\n",
    "        函数体\n",
    "```\n",
    " \n",
    " \n",
    "#### 调用函数\n",
    "- 函数名后面接小括号。"
   ]
  }
 ],
 "metadata": {
  "kernelspec": {
   "display_name": "Python 3",
   "language": "python",
   "name": "python3"
  },
  "language_info": {
   "codemirror_mode": {
    "name": "ipython",
    "version": 3
   },
   "file_extension": ".py",
   "mimetype": "text/x-python",
   "name": "python",
   "nbconvert_exporter": "python",
   "pygments_lexer": "ipython3",
   "version": "3.7.1"
  }
 },
 "nbformat": 4,
 "nbformat_minor": 2
}
