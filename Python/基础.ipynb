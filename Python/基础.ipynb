{
 "cells": [
  {
   "cell_type": "markdown",
   "metadata": {},
   "source": [
    "# Jupyter快捷键\n",
    "- esc + A 添加一栏"
   ]
  },
  {
   "cell_type": "markdown",
   "metadata": {},
   "source": [
    "# 声明的3种格式"
   ]
  },
  {
   "cell_type": "code",
   "execution_count": 9,
   "metadata": {},
   "outputs": [],
   "source": [
    "s1 = \"格式一\"\n",
    "s2 = s1 = \"格式二\"\n",
    "s3 , s2 , s1 = \"格式三\",2,1"
   ]
  },
  {
   "cell_type": "markdown",
   "metadata": {},
   "source": [
    "# 变量类型\n",
    "- 严格意义上讲，Python只有一种类型。\n",
    "- 标准数据类型6种\n",
    "    - 数字Number\n",
    "        - 布尔值\n",
    "        - 复数\n",
    "        - 整型\n",
    "        - 浮点数\n",
    "    - 字符串Str\n",
    "    - 列表List\n",
    "    - 元组Tuple\n",
    "    - 字典Dict\n",
    "    - 集合Set\n",
    "    \n",
    "## 数字类型\n",
    "- Python里面的数字没有大小限制\n",
    "\n",
    "### 整数\n",
    "- 没有小数部分\n",
    "- 包含正数、负数、0\n",
    "- 2进制\n",
    "    - 0b开头\n",
    "    - 0，1组成\n",
    "- 8进制\n",
    "    - 0o开头\n",
    "    - 0-7之间的数字串\n",
    "- 16进制\n",
    "    - 0x开头\n",
    "    - 0-9，a-f组成\n",
    "\n",
    "### 浮点数\n",
    "- 小数，带小数点的\n",
    "    - 3.14\n",
    "    - 3.\n",
    "    - 0.4\n",
    "    - .4\n",
    "- 科学计数法\n",
    "    - 定义跟数学定义一样\n",
    "    - 写法就是e后面跟着整数用来表示10的指数\n",
    "    - 1.84e2"
   ]
  },
  {
   "cell_type": "markdown",
   "metadata": {},
   "source": [
    "### 复数类型\n",
    "- 定义同数学定义一致\n",
    "- 一个由实部和虚部构成的数字\n",
    "- 虚部用 **j/J** 表示"
   ]
  },
  {
   "cell_type": "code",
   "execution_count": 10,
   "metadata": {},
   "outputs": [
    {
     "data": {
      "text/plain": [
       "3j"
      ]
     },
     "execution_count": 10,
     "metadata": {},
     "output_type": "execute_result"
    }
   ],
   "source": [
    "5+3j\n",
    "3j\n",
    "(3j)"
   ]
  },
  {
   "cell_type": "markdown",
   "metadata": {},
   "source": [
    "### 布尔值\n",
    "- 布尔值就是用来表示真假的值\n",
    "- 只有两个值：\n",
    "    - True\n",
    "    - False\n",
    "- 在Python中，布尔值可以当数字使用\n",
    "    - 布尔值如果当数字使用，True=1，False=0\n",
    "    - 如果数字用来当作布尔值使用，0=False,其余当作True"
   ]
  },
  {
   "cell_type": "markdown",
   "metadata": {},
   "source": [
    "# 字符串"
   ]
  },
  {
   "cell_type": "markdown",
   "metadata": {},
   "source": [
    "# 函数\n",
    "- 函数是代码一种组织形式。\n",
    "- 函数应该能完成一项特定的工作，而且一般一个函数值完成一项工作。\n",
    "- 函数的使用：\n",
    "    - 函数使用前需要先定义。\n",
    "    - 使用函数，俗称调用。\n",
    "    \n",
    "#### 定义一个函数\n",
    "```\n",
    "    def 函数名():\n",
    "        函数体\n",
    "```\n",
    " \n",
    " \n",
    "#### 调用函数\n",
    "- 函数名后面接小括号。"
   ]
  }
 ],
 "metadata": {
  "kernelspec": {
   "display_name": "Python 3",
   "language": "python",
   "name": "python3"
  },
  "language_info": {
   "codemirror_mode": {
    "name": "ipython",
    "version": 3
   },
   "file_extension": ".py",
   "mimetype": "text/x-python",
   "name": "python",
   "nbconvert_exporter": "python",
   "pygments_lexer": "ipython3",
   "version": "3.5.6"
  }
 },
 "nbformat": 4,
 "nbformat_minor": 2
}
