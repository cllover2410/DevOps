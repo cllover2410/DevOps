{
 "cells": [
  {
   "cell_type": "code",
   "execution_count": null,
   "metadata": {},
   "outputs": [],
   "source": []
  },
  {
   "cell_type": "markdown",
   "metadata": {},
   "source": [
    "# 函数\n",
    "- 函数是代码一种组织形式。\n",
    "- 函数应该能完成一项特定的工作，而且一般一个函数值完成一项工作。\n",
    "- 函数的使用：\n",
    "    - 函数使用前需要先定义。\n",
    "    - 使用函数，俗称调用。\n",
    "    \n",
    "#### 定义一个函数\n",
    "```\n",
    "    def 函数名():\n",
    "        函数体\n",
    "```\n",
    " \n",
    " \n",
    "#### 调用函数\n",
    "- 函数名后面接小括号。"
   ]
  }
 ],
 "metadata": {
  "kernelspec": {
   "display_name": "Python 3",
   "language": "python",
   "name": "python3"
  },
  "language_info": {
   "codemirror_mode": {
    "name": "ipython",
    "version": 3
   },
   "file_extension": ".py",
   "mimetype": "text/x-python",
   "name": "python",
   "nbconvert_exporter": "python",
   "pygments_lexer": "ipython3",
   "version": "3.5.6"
  }
 },
 "nbformat": 4,
 "nbformat_minor": 2
}
